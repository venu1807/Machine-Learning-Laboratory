{
 "cells": [
  {
   "cell_type": "markdown",
   "metadata": {},
   "source": [
    "# HaMLeT\n",
    "\n",
    "## Session 6: Backpropagation\n",
    "by Leon Weninger and Raphael Kolk\n",
    "\n",
    "### Goal of this Session\n",
    "\n",
    "In this session you will, step by step, implement a the backpropagation algorithm yourself without using any deep learning libraries. You should already be familiar with Python as well as NumPy (a package for scientific computing with Python)."
   ]
  },
  {
   "cell_type": "markdown",
   "metadata": {},
   "source": [
    "### Given code\n",
    "\n",
    "**Task 0:** Familiarize yourself briefly with the given code. Pay particural attention to the `Layer` and `Cost` classes, from which you will derive the classes you implement, and the `Sigmoid` layer which is predefined as an example. You'll also need to execute the cells in this section once.\n",
    "\n",
    "The following code loads the data and trains the network in a similar fashion as in the last session."
   ]
  },
  {
   "cell_type": "code",
   "execution_count": 9,
   "metadata": {},
   "outputs": [],
   "source": [
    "import numpy as np\n",
    "from tqdm import tqdm\n",
    "from load_mnist import load_mnist\n",
    "\n",
    "\n",
    "def vectorize(j):\n",
    "    label_vector = np.zeros((1, 10))\n",
    "    label_vector[0, int(j)] = 1.0\n",
    "    return label_vector\n",
    "\n",
    "\n",
    "def load_data():\n",
    "    images, labels = load_mnist()\n",
    "\n",
    "    image_size = images.shape[1]\n",
    "    label_size = labels.shape[1]\n",
    "\n",
    "    random_permutation = np.random.permutation(images.shape[0])\n",
    "    images = images[random_permutation, :]\n",
    "    labels = labels[random_permutation, :]\n",
    "\n",
    "    return images, labels, image_size, label_size\n",
    "\n",
    "\n",
    "def train(net, cost_function, number_epochs, batch_size, learning_rate):\n",
    "    images, labels, image_size, label_size = load_data()\n",
    "    training_images, validation_images = images[:50000], images[50000:]\n",
    "    training_labels, validation_labels = labels[:50000], labels[50000:]\n",
    "\n",
    "    for e in range(number_epochs):\n",
    "        cost = train_epoch(e, net, training_images, training_labels, cost_function, batch_size, learning_rate)\n",
    "        accuracy = validate_epoch(e, net, validation_images, validation_labels, batch_size)\n",
    "        print('cost=%5.6f, accuracy=%2.6f' % (cost, accuracy), flush=True)\n",
    "\n",
    "\n",
    "def train_epoch(e, net, images, labels, cost_function, batch_size, learning_rate):\n",
    "    epoch_cost = 0\n",
    "\n",
    "    for i in tqdm(range(0, len(images), batch_size), ascii=False, desc='training,   e=%i' % e):\n",
    "        batch_images = images[i:min(i + batch_size, len(images)), :]\n",
    "        batch_labels = labels[i:min(i + batch_size, len(labels)), :]\n",
    "\n",
    "        # zero the gradients\n",
    "        net.zero_gradients()\n",
    "\n",
    "        # forward pass\n",
    "        prediction = net.forward(batch_images)\n",
    "        cost = cost_function.estimate(batch_labels, prediction)\n",
    "\n",
    "        # backward pass\n",
    "        dprediction = cost_function.gradient(cost)\n",
    "        net.backward(dprediction)\n",
    "\n",
    "        # update the parameters using the computed gradients via stochastic gradient descent.\n",
    "        net.update_parameters(learning_rate)\n",
    "\n",
    "        epoch_cost += np.mean(cost)\n",
    "\n",
    "    return epoch_cost\n",
    "\n",
    "\n",
    "def validate_epoch(e, net, images, labels, batch_size):\n",
    "    n_correct = 0\n",
    "    n_total = 0\n",
    "\n",
    "    for i in tqdm(range(0, len(images), batch_size), ascii=False, desc='validation, e=%i' % e):\n",
    "        batch_images = images[i:min(i + batch_size, len(images)), :]\n",
    "        batch_labels = labels[i:min(i + batch_size, len(labels)), :]\n",
    "\n",
    "        # compute predicted probabilities.\n",
    "        predictions = net.forward(batch_images)\n",
    "\n",
    "        # find the most probable class label.\n",
    "        n_correct += sum(np.argmax(batch_labels, axis=1) == np.argmax(predictions, axis=1))\n",
    "        n_total += batch_labels.shape[0]\n",
    "\n",
    "    return n_correct / n_total\n"
   ]
  },
  {
   "cell_type": "markdown",
   "metadata": {},
   "source": [
    "Remember the sigmoid function and its derivative you implemented in the previous session."
   ]
  },
  {
   "cell_type": "code",
   "execution_count": 10,
   "metadata": {},
   "outputs": [],
   "source": [
    "def sigmoid_function(var):\n",
    "    return 1.0 / (1.0 + np.exp(-var))\n",
    "\n",
    "\n",
    "def sigmoid_derivative(z):\n",
    "    return sigmoid_function(z) * (1 - sigmoid_function(z))"
   ]
  },
  {
   "cell_type": "markdown",
   "metadata": {},
   "source": [
    "The following abstract classes should serve as parent classes for all the different layers and cost functions which you will implement. "
   ]
  },
  {
   "cell_type": "code",
   "execution_count": 11,
   "metadata": {},
   "outputs": [],
   "source": [
    "class Layer:\n",
    "    def __init__(self):\n",
    "        # Initialize all member variables of the layer.\n",
    "        pass\n",
    "\n",
    "    def forward(self, x_in):\n",
    "        # Implemets for forward pass of the layer and returns x_out.\n",
    "        pass\n",
    "\n",
    "    def backward(self, d_out):\n",
    "        # Implements the backward pass of the layer and returns d_in.\n",
    "        pass\n",
    "\n",
    "    def zero_gradients(self):\n",
    "        # Sets all gradients of the layer to zero.\n",
    "        pass\n",
    "\n",
    "    def update_parameters(self, learning_rate):\n",
    "        # Update the parameters of the layer with the help of the gradients stored during the backward pass.\n",
    "        pass\n",
    "\n",
    "\n",
    "class Cost:\n",
    "    def __init__(self):\n",
    "        # Initialize all member variables of the cost function.\n",
    "        pass\n",
    "\n",
    "    def estimate(self, target, prediction):\n",
    "        # Estimates and return the cost with respect to the predicted label and a target label previously set by set_target().\n",
    "        pass\n",
    "\n",
    "    def gradient(self, cost):\n",
    "        # Calculates and returns the gradient with respect to the cost.\n",
    "        pass"
   ]
  },
  {
   "cell_type": "markdown",
   "metadata": {},
   "source": [
    "The following class derived from the Layer class implements the forward and backward pass of the sigmoid activation function alread known from the previous session and serves as an example for you. Since it does not have learnable parameters, no `update_parameters` or `zero_gradients` function needs to be implemented."
   ]
  },
  {
   "cell_type": "code",
   "execution_count": 12,
   "metadata": {},
   "outputs": [],
   "source": [
    "class Sigmoid(Layer):\n",
    "    def __init__(self):\n",
    "        self.x_in = None\n",
    "    \n",
    "    def forward(self, x_in):\n",
    "        self.x_in = x_in\n",
    "        x_out = sigmoid_function(x_in)\n",
    "        return x_out\n",
    "    \n",
    "    def backward(self, d_out):\n",
    "        d_in = d_out * sigmoid_derivative(self.x_in)\n",
    "        return d_in\n",
    "    \n",
    "    def zero_gradients(self):\n",
    "        pass\n",
    "    \n",
    "    def update_parameters(self, learning_rate):\n",
    "        pass"
   ]
  },
  {
   "cell_type": "markdown",
   "metadata": {},
   "source": [
    "### Theoretical Foundation \n",
    "\n",
    "**Task 1:** Take a peace of paper and a pencil, use your knowledge from the preparation material and the introduction slides and fill in the gaps in the preparation material. Keep in mind that the inputs may be batched. Having written the formulas down, please check with the tutor if they are correct."
   ]
  },
  {
   "cell_type": "markdown",
   "metadata": {},
   "source": [
    "### Practical Implementation\n",
    "\n",
    "**Task 2a:** Implement the `forward` function for the `Linear` layer. Remember to store the `x_in` for use in the backward pass.\n",
    "\n",
    "**Task 2b:** Implement the `estimate` function for the `MeanSquareError` cost, which estimates the cost after a ground truth target is set. Remember to store the `prediction` for calculating the gradient.\n",
    "\n",
    "**Task 2c:** Implement the `gradient` function for the `MeanSquareError` cost, which calculates the gradient with respect to the cost. Use the `prediction` stored during the forward pass.\n",
    "\n",
    "**Task 2d:** Implement the `backward` function for the `Linear` layer. The function should also calculate and accumulate the gradient of `w` and `b` with regard to the error.\n",
    "\n",
    "**Task 2e:** Implement the `update_parameters` function for the `Linear` layer, i.e., use the gradients `dw` and `db` together with a given `learning_rate` to update the parameters `w` and `b` accordingly.\n",
    "\n",
    "**Task 2f:** Test your implementation by propagating random input through a linear layer followed by a sigmoid layer, estimating the mean square error to a random target, calculating the gradient and propagating it back through the sigmoid and linear layer. Afterwards update the parameters of the linear layer using the function you implemented.\n",
    "\n",
    "**Task 3a:** Implement the `Network` class which can encapsulate multiple layers. It offers the same interface as a layer and is therefore derived from the `Layer` parent as well. Make sure to implement all member functions needed. The `forward` function propagates a given input through all encapsulated layers and returns the final prediction of the network, whereas the `backward` function propagates a given gradient through all layers in reversed order. `zero_gradients` and `update_parameters` invoke the respective functions of the encapsulated layers.\n",
    "\n",
    "**Task 3b:** Test your implementation analogous to task 2f but using the `Network` class to encapsulate the linear and sigmoid layer.\n",
    "\n",
    "**Task 4:** Train the network you just implemented using the dataloader and train function given above and the hyperparameter given below.\n",
    "\n",
    "**Task 5:** Come up with a more sophisticated network structure and adjust the hyperparameter in order to increase the accuracy."
   ]
  },
  {
   "cell_type": "code",
   "execution_count": 13,
   "metadata": {},
   "outputs": [],
   "source": [
    "class Linear(Layer):\n",
    "    def __init__(self, n_in, n_out, initial_sigma=0.1):\n",
    "        self.n_in = n_in\n",
    "        self.n_out = n_out\n",
    "\n",
    "        self.w = initial_sigma * np.random.randn(n_out, n_in)\n",
    "        self.b = np.zeros((1, n_out))\n",
    "\n",
    "        self.zero_gradients()\n",
    "\n",
    "        self.x_in = None\n",
    "\n",
    "    def forward(self, x_in):\n",
    "        # ----- Add code for task 2a between comments -----\n",
    "        self.x_in =x_in\n",
    "        \n",
    "        x_out = np.dot(self.x_in,self.w.T) +self.b\n",
    "        \n",
    "        # -------------------------------------------------\n",
    "        return x_out\n",
    "\n",
    "    def backward(self, d_out):\n",
    "        # ----- Add code for task 2d between comments -----\n",
    "        \n",
    "        self.db += np.sum(d_out,axis=0,keepdims=True)\n",
    "        \n",
    "        self.dw += np.dot(d_out.T,self.x_in)\n",
    "        \n",
    "        self.d_in = np.dot(d_out,self.w)\n",
    "        # -------------------------------------------------\n",
    "        return self.d_in\n",
    "\n",
    "    def zero_gradients(self):\n",
    "        self.dw = np.zeros((self.n_out, self.n_in))\n",
    "        self.db = np.zeros((1, self.n_out))\n",
    "        self.dx = np.empty((0, self.n_in))\n",
    "\n",
    "    def update_parameters(self, learning_rate):\n",
    "        # ----- Add code for task 2e between comments -----\n",
    "        \n",
    "        self.w = self.w-(learning_rate*self.dw)\n",
    "        self.b = self.b-(learning_rate*self.db)\n",
    "        # -------------------------------------------------\n",
    "\n",
    "\n",
    "class MeanSquareError(Cost):\n",
    "    def __init__(self):\n",
    "        self.prediction = None\n",
    "        self.target = None\n",
    "\n",
    "    def estimate(self, target, prediction):\n",
    "        self.target = target\n",
    "        self.prediction=prediction\n",
    "        # ----- add code for task 2b between comments -----\n",
    "        cost = 1/2*(target-prediction)**2\n",
    "        # -------------------------------------------------\n",
    "        return cost\n",
    "\n",
    "    def gradient(self, cost):\n",
    "        # ----- add code for task 2c between comments -----\n",
    "        \n",
    "        gradient =self.prediction- self.target\n",
    "        \n",
    "        #gradient = np.sprt(2*cost)\n",
    "        \n",
    "        # -------------------------------------------------\n",
    "        return gradient\n",
    "\n",
    "\n",
    "class Network(Layer):\n",
    "    def __init__(self, layers):\n",
    "        self.layers = layers\n",
    "\n",
    "    # ----- add code for task 3a between comments -----\n",
    "    def forward(self,x):\n",
    "        for layer in self.layers:\n",
    "            x=layer.forward(x)\n",
    "        return x\n",
    "        \n",
    "    def backward(self,d):\n",
    "        for layer in reversed(self.layers):\n",
    "            d=layer.backward(d)\n",
    "        return d\n",
    "        \n",
    "    def update_parameters(self,alpha):\n",
    "        for layer in self.layers:\n",
    "            layer.update_parameters(alpha)\n",
    "            \n",
    "    def zero_gradients(self):\n",
    "        for layer in self.layers:\n",
    "            layer.zero_gradients()\n",
    "    \n",
    "    # -------------------------------------------------"
   ]
  },
  {
   "cell_type": "code",
   "execution_count": 6,
   "metadata": {},
   "outputs": [
    {
     "name": "stderr",
     "output_type": "stream",
     "text": [
      "training,   e=0:   0%|          | 0/84 [00:00<?, ?it/s]/usr/local/anaconda3/lib/python3.6/site-packages/ipykernel_launcher.py:2: RuntimeWarning: overflow encountered in exp\n",
      "  \n",
      "training,   e=0: 100%|██████████| 84/84 [00:00<00:00, 98.33it/s]\n",
      "validation, e=0: 100%|██████████| 17/17 [00:00<00:00, 185.19it/s]"
     ]
    },
    {
     "name": "stdout",
     "output_type": "stream",
     "text": [
      "cost=4.938776, accuracy=0.309500\n"
     ]
    },
    {
     "name": "stderr",
     "output_type": "stream",
     "text": [
      "\n",
      "training,   e=1: 100%|██████████| 84/84 [00:00<00:00, 104.64it/s]\n",
      "validation, e=1: 100%|██████████| 17/17 [00:00<00:00, 185.28it/s]"
     ]
    },
    {
     "name": "stdout",
     "output_type": "stream",
     "text": [
      "cost=3.624176, accuracy=0.306500\n"
     ]
    },
    {
     "name": "stderr",
     "output_type": "stream",
     "text": [
      "\n",
      "training,   e=2: 100%|██████████| 84/84 [00:00<00:00, 105.60it/s]\n",
      "validation, e=2: 100%|██████████| 17/17 [00:00<00:00, 185.08it/s]"
     ]
    },
    {
     "name": "stdout",
     "output_type": "stream",
     "text": [
      "cost=3.551397, accuracy=0.320900\n"
     ]
    },
    {
     "name": "stderr",
     "output_type": "stream",
     "text": [
      "\n",
      "training,   e=3: 100%|██████████| 84/84 [00:00<00:00, 106.68it/s]\n",
      "validation, e=3: 100%|██████████| 17/17 [00:00<00:00, 185.09it/s]"
     ]
    },
    {
     "name": "stdout",
     "output_type": "stream",
     "text": [
      "cost=3.511281, accuracy=0.333500\n"
     ]
    },
    {
     "name": "stderr",
     "output_type": "stream",
     "text": [
      "\n",
      "training,   e=4: 100%|██████████| 84/84 [00:00<00:00, 105.62it/s]\n",
      "validation, e=4: 100%|██████████| 17/17 [00:00<00:00, 185.08it/s]"
     ]
    },
    {
     "name": "stdout",
     "output_type": "stream",
     "text": [
      "cost=3.461046, accuracy=0.335800\n"
     ]
    },
    {
     "name": "stderr",
     "output_type": "stream",
     "text": [
      "\n",
      "training,   e=5: 100%|██████████| 84/84 [00:00<00:00, 86.33it/s] \n",
      "validation, e=5: 100%|██████████| 17/17 [00:00<00:00, 141.62it/s]"
     ]
    },
    {
     "name": "stdout",
     "output_type": "stream",
     "text": [
      "cost=3.331616, accuracy=0.396200\n"
     ]
    },
    {
     "name": "stderr",
     "output_type": "stream",
     "text": [
      "\n",
      "training,   e=6: 100%|██████████| 84/84 [00:00<00:00, 102.03it/s]\n",
      "validation, e=6: 100%|██████████| 17/17 [00:00<00:00, 185.37it/s]"
     ]
    },
    {
     "name": "stdout",
     "output_type": "stream",
     "text": [
      "cost=3.168227, accuracy=0.413300\n"
     ]
    },
    {
     "name": "stderr",
     "output_type": "stream",
     "text": [
      "\n",
      "training,   e=7: 100%|██████████| 84/84 [00:00<00:00, 107.01it/s]\n",
      "validation, e=7: 100%|██████████| 17/17 [00:00<00:00, 185.24it/s]"
     ]
    },
    {
     "name": "stdout",
     "output_type": "stream",
     "text": [
      "cost=3.058832, accuracy=0.417100\n"
     ]
    },
    {
     "name": "stderr",
     "output_type": "stream",
     "text": [
      "\n",
      "training,   e=8: 100%|██████████| 84/84 [00:00<00:00, 104.91it/s]\n",
      "validation, e=8: 100%|██████████| 17/17 [00:00<00:00, 185.32it/s]"
     ]
    },
    {
     "name": "stdout",
     "output_type": "stream",
     "text": [
      "cost=2.994231, accuracy=0.431600\n"
     ]
    },
    {
     "name": "stderr",
     "output_type": "stream",
     "text": [
      "\n",
      "training,   e=9: 100%|██████████| 84/84 [00:00<00:00, 98.41it/s]\n",
      "validation, e=9: 100%|██████████| 17/17 [00:00<00:00, 185.79it/s]"
     ]
    },
    {
     "name": "stdout",
     "output_type": "stream",
     "text": [
      "cost=2.963683, accuracy=0.428900\n"
     ]
    },
    {
     "name": "stderr",
     "output_type": "stream",
     "text": [
      "\n",
      "training,   e=10: 100%|██████████| 84/84 [00:00<00:00, 108.27it/s]\n",
      "validation, e=10: 100%|██████████| 17/17 [00:00<00:00, 185.33it/s]"
     ]
    },
    {
     "name": "stdout",
     "output_type": "stream",
     "text": [
      "cost=2.921293, accuracy=0.438800\n"
     ]
    },
    {
     "name": "stderr",
     "output_type": "stream",
     "text": [
      "\n",
      "training,   e=11: 100%|██████████| 84/84 [00:00<00:00, 108.18it/s]\n",
      "validation, e=11: 100%|██████████| 17/17 [00:00<00:00, 187.51it/s]"
     ]
    },
    {
     "name": "stdout",
     "output_type": "stream",
     "text": [
      "cost=2.894430, accuracy=0.441400\n"
     ]
    },
    {
     "name": "stderr",
     "output_type": "stream",
     "text": [
      "\n",
      "training,   e=12: 100%|██████████| 84/84 [00:00<00:00, 92.79it/s] \n",
      "validation, e=12: 100%|██████████| 17/17 [00:00<00:00, 141.94it/s]"
     ]
    },
    {
     "name": "stdout",
     "output_type": "stream",
     "text": [
      "cost=2.871689, accuracy=0.451400\n"
     ]
    },
    {
     "name": "stderr",
     "output_type": "stream",
     "text": [
      "\n",
      "training,   e=13: 100%|██████████| 84/84 [00:00<00:00, 108.81it/s]\n",
      "validation, e=13: 100%|██████████| 17/17 [00:00<00:00, 184.29it/s]"
     ]
    },
    {
     "name": "stdout",
     "output_type": "stream",
     "text": [
      "cost=2.854031, accuracy=0.442300\n"
     ]
    },
    {
     "name": "stderr",
     "output_type": "stream",
     "text": [
      "\n",
      "training,   e=14: 100%|██████████| 84/84 [00:00<00:00, 108.94it/s]\n",
      "validation, e=14: 100%|██████████| 17/17 [00:00<00:00, 185.11it/s]"
     ]
    },
    {
     "name": "stdout",
     "output_type": "stream",
     "text": [
      "cost=2.836971, accuracy=0.443800\n"
     ]
    },
    {
     "name": "stderr",
     "output_type": "stream",
     "text": [
      "\n",
      "training,   e=15: 100%|██████████| 84/84 [00:00<00:00, 106.09it/s]\n",
      "validation, e=15: 100%|██████████| 17/17 [00:00<00:00, 184.23it/s]"
     ]
    },
    {
     "name": "stdout",
     "output_type": "stream",
     "text": [
      "cost=2.827713, accuracy=0.444200\n"
     ]
    },
    {
     "name": "stderr",
     "output_type": "stream",
     "text": [
      "\n",
      "training,   e=16: 100%|██████████| 84/84 [00:00<00:00, 92.51it/s]\n",
      "validation, e=16: 100%|██████████| 17/17 [00:00<00:00, 139.15it/s]"
     ]
    },
    {
     "name": "stdout",
     "output_type": "stream",
     "text": [
      "cost=2.833228, accuracy=0.458200\n"
     ]
    },
    {
     "name": "stderr",
     "output_type": "stream",
     "text": [
      "\n",
      "training,   e=17: 100%|██████████| 84/84 [00:00<00:00, 109.96it/s]\n",
      "validation, e=17: 100%|██████████| 17/17 [00:00<00:00, 184.68it/s]"
     ]
    },
    {
     "name": "stdout",
     "output_type": "stream",
     "text": [
      "cost=2.813443, accuracy=0.459700\n"
     ]
    },
    {
     "name": "stderr",
     "output_type": "stream",
     "text": [
      "\n",
      "training,   e=18: 100%|██████████| 84/84 [00:00<00:00, 110.14it/s]\n",
      "validation, e=18: 100%|██████████| 17/17 [00:00<00:00, 184.95it/s]"
     ]
    },
    {
     "name": "stdout",
     "output_type": "stream",
     "text": [
      "cost=2.804464, accuracy=0.465800\n"
     ]
    },
    {
     "name": "stderr",
     "output_type": "stream",
     "text": [
      "\n",
      "training,   e=19: 100%|██████████| 84/84 [00:00<00:00, 110.13it/s]\n",
      "validation, e=19: 100%|██████████| 17/17 [00:00<00:00, 185.00it/s]"
     ]
    },
    {
     "name": "stdout",
     "output_type": "stream",
     "text": [
      "cost=2.798534, accuracy=0.467900\n"
     ]
    },
    {
     "name": "stderr",
     "output_type": "stream",
     "text": [
      "\n",
      "training,   e=20: 100%|██████████| 84/84 [00:00<00:00, 102.17it/s]\n",
      "validation, e=20: 100%|██████████| 17/17 [00:00<00:00, 183.10it/s]"
     ]
    },
    {
     "name": "stdout",
     "output_type": "stream",
     "text": [
      "cost=2.784008, accuracy=0.468700\n"
     ]
    },
    {
     "name": "stderr",
     "output_type": "stream",
     "text": [
      "\n",
      "training,   e=21: 100%|██████████| 84/84 [00:00<00:00, 102.78it/s]\n",
      "validation, e=21: 100%|██████████| 17/17 [00:00<00:00, 141.85it/s]"
     ]
    },
    {
     "name": "stdout",
     "output_type": "stream",
     "text": [
      "cost=2.779173, accuracy=0.467800\n"
     ]
    },
    {
     "name": "stderr",
     "output_type": "stream",
     "text": [
      "\n",
      "training,   e=22: 100%|██████████| 84/84 [00:00<00:00, 100.15it/s]\n",
      "validation, e=22: 100%|██████████| 17/17 [00:00<00:00, 185.21it/s]"
     ]
    },
    {
     "name": "stdout",
     "output_type": "stream",
     "text": [
      "cost=2.776501, accuracy=0.467600\n"
     ]
    },
    {
     "name": "stderr",
     "output_type": "stream",
     "text": [
      "\n",
      "training,   e=23: 100%|██████████| 84/84 [00:00<00:00, 109.24it/s]\n",
      "validation, e=23: 100%|██████████| 17/17 [00:00<00:00, 184.87it/s]"
     ]
    },
    {
     "name": "stdout",
     "output_type": "stream",
     "text": [
      "cost=2.763745, accuracy=0.469400\n"
     ]
    },
    {
     "name": "stderr",
     "output_type": "stream",
     "text": [
      "\n",
      "training,   e=24: 100%|██████████| 84/84 [00:00<00:00, 106.26it/s]\n",
      "validation, e=24: 100%|██████████| 17/17 [00:00<00:00, 184.94it/s]"
     ]
    },
    {
     "name": "stdout",
     "output_type": "stream",
     "text": [
      "cost=2.756209, accuracy=0.468500\n"
     ]
    },
    {
     "name": "stderr",
     "output_type": "stream",
     "text": [
      "\n",
      "training,   e=25: 100%|██████████| 84/84 [00:00<00:00, 85.54it/s]\n",
      "validation, e=25: 100%|██████████| 17/17 [00:00<00:00, 181.22it/s]"
     ]
    },
    {
     "name": "stdout",
     "output_type": "stream",
     "text": [
      "cost=2.757379, accuracy=0.472200\n"
     ]
    },
    {
     "name": "stderr",
     "output_type": "stream",
     "text": [
      "\n",
      "training,   e=26: 100%|██████████| 84/84 [00:00<00:00, 102.88it/s]\n",
      "validation, e=26: 100%|██████████| 17/17 [00:00<00:00, 184.70it/s]"
     ]
    },
    {
     "name": "stdout",
     "output_type": "stream",
     "text": [
      "cost=2.744545, accuracy=0.472800\n"
     ]
    },
    {
     "name": "stderr",
     "output_type": "stream",
     "text": [
      "\n",
      "training,   e=27: 100%|██████████| 84/84 [00:01<00:00, 78.79it/s]\n",
      "validation, e=27: 100%|██████████| 17/17 [00:00<00:00, 143.03it/s]"
     ]
    },
    {
     "name": "stdout",
     "output_type": "stream",
     "text": [
      "cost=2.740545, accuracy=0.474200\n"
     ]
    },
    {
     "name": "stderr",
     "output_type": "stream",
     "text": [
      "\n",
      "training,   e=28: 100%|██████████| 84/84 [00:00<00:00, 109.50it/s]\n",
      "validation, e=28: 100%|██████████| 17/17 [00:00<00:00, 179.70it/s]"
     ]
    },
    {
     "name": "stdout",
     "output_type": "stream",
     "text": [
      "cost=2.733786, accuracy=0.478800\n"
     ]
    },
    {
     "name": "stderr",
     "output_type": "stream",
     "text": [
      "\n",
      "training,   e=29: 100%|██████████| 84/84 [00:00<00:00, 108.12it/s]\n",
      "validation, e=29: 100%|██████████| 17/17 [00:00<00:00, 184.78it/s]"
     ]
    },
    {
     "name": "stdout",
     "output_type": "stream",
     "text": [
      "cost=2.719958, accuracy=0.479400\n"
     ]
    },
    {
     "name": "stderr",
     "output_type": "stream",
     "text": [
      "\n",
      "training,   e=30: 100%|██████████| 84/84 [00:00<00:00, 107.57it/s]\n",
      "validation, e=30: 100%|██████████| 17/17 [00:00<00:00, 184.67it/s]"
     ]
    },
    {
     "name": "stdout",
     "output_type": "stream",
     "text": [
      "cost=2.707361, accuracy=0.487400\n"
     ]
    },
    {
     "name": "stderr",
     "output_type": "stream",
     "text": [
      "\n",
      "training,   e=31: 100%|██████████| 84/84 [00:00<00:00, 106.98it/s]\n",
      "validation, e=31: 100%|██████████| 17/17 [00:00<00:00, 185.06it/s]"
     ]
    },
    {
     "name": "stdout",
     "output_type": "stream",
     "text": [
      "cost=2.707886, accuracy=0.478700\n"
     ]
    },
    {
     "name": "stderr",
     "output_type": "stream",
     "text": [
      "\n",
      "training,   e=32: 100%|██████████| 84/84 [00:00<00:00, 107.55it/s]\n",
      "validation, e=32: 100%|██████████| 17/17 [00:00<00:00, 184.66it/s]"
     ]
    },
    {
     "name": "stdout",
     "output_type": "stream",
     "text": [
      "cost=2.678279, accuracy=0.485100\n"
     ]
    },
    {
     "name": "stderr",
     "output_type": "stream",
     "text": [
      "\n",
      "training,   e=33: 100%|██████████| 84/84 [00:00<00:00, 91.85it/s] \n",
      "validation, e=33: 100%|██████████| 17/17 [00:00<00:00, 184.20it/s]"
     ]
    },
    {
     "name": "stdout",
     "output_type": "stream",
     "text": [
      "cost=2.666325, accuracy=0.494200\n"
     ]
    },
    {
     "name": "stderr",
     "output_type": "stream",
     "text": [
      "\n",
      "training,   e=34: 100%|██████████| 84/84 [00:00<00:00, 87.82it/s]\n",
      "validation, e=34: 100%|██████████| 17/17 [00:00<00:00, 147.79it/s]"
     ]
    },
    {
     "name": "stdout",
     "output_type": "stream",
     "text": [
      "cost=2.655260, accuracy=0.501600\n"
     ]
    },
    {
     "name": "stderr",
     "output_type": "stream",
     "text": [
      "\n",
      "training,   e=35: 100%|██████████| 84/84 [00:00<00:00, 102.87it/s]\n",
      "validation, e=35: 100%|██████████| 17/17 [00:00<00:00, 185.91it/s]"
     ]
    },
    {
     "name": "stdout",
     "output_type": "stream",
     "text": [
      "cost=2.646725, accuracy=0.497400\n"
     ]
    },
    {
     "name": "stderr",
     "output_type": "stream",
     "text": [
      "\n",
      "training,   e=36: 100%|██████████| 84/84 [00:00<00:00, 104.94it/s]\n",
      "validation, e=36: 100%|██████████| 17/17 [00:00<00:00, 186.12it/s]"
     ]
    },
    {
     "name": "stdout",
     "output_type": "stream",
     "text": [
      "cost=2.630066, accuracy=0.499200\n"
     ]
    },
    {
     "name": "stderr",
     "output_type": "stream",
     "text": [
      "\n",
      "training,   e=37: 100%|██████████| 84/84 [00:00<00:00, 103.39it/s]\n",
      "validation, e=37: 100%|██████████| 17/17 [00:00<00:00, 171.69it/s]"
     ]
    },
    {
     "name": "stdout",
     "output_type": "stream",
     "text": [
      "cost=2.635276, accuracy=0.510300\n"
     ]
    },
    {
     "name": "stderr",
     "output_type": "stream",
     "text": [
      "\n",
      "training,   e=38: 100%|██████████| 84/84 [00:00<00:00, 105.63it/s]\n",
      "validation, e=38: 100%|██████████| 17/17 [00:00<00:00, 185.57it/s]"
     ]
    },
    {
     "name": "stdout",
     "output_type": "stream",
     "text": [
      "cost=2.623842, accuracy=0.537000\n"
     ]
    },
    {
     "name": "stderr",
     "output_type": "stream",
     "text": [
      "\n",
      "training,   e=39: 100%|██████████| 84/84 [00:00<00:00, 106.26it/s]\n",
      "validation, e=39: 100%|██████████| 17/17 [00:00<00:00, 185.60it/s]"
     ]
    },
    {
     "name": "stdout",
     "output_type": "stream",
     "text": [
      "cost=2.581603, accuracy=0.537500\n"
     ]
    },
    {
     "name": "stderr",
     "output_type": "stream",
     "text": [
      "\n",
      "training,   e=40: 100%|██████████| 84/84 [00:00<00:00, 104.66it/s]\n",
      "validation, e=40: 100%|██████████| 17/17 [00:00<00:00, 185.04it/s]"
     ]
    },
    {
     "name": "stdout",
     "output_type": "stream",
     "text": [
      "cost=2.520833, accuracy=0.545400\n"
     ]
    },
    {
     "name": "stderr",
     "output_type": "stream",
     "text": [
      "\n",
      "training,   e=41: 100%|██████████| 84/84 [00:00<00:00, 103.92it/s]\n",
      "validation, e=41: 100%|██████████| 17/17 [00:00<00:00, 185.01it/s]"
     ]
    },
    {
     "name": "stdout",
     "output_type": "stream",
     "text": [
      "cost=2.467117, accuracy=0.550700\n"
     ]
    },
    {
     "name": "stderr",
     "output_type": "stream",
     "text": [
      "\n",
      "training,   e=42: 100%|██████████| 84/84 [00:00<00:00, 108.89it/s]\n",
      "validation, e=42: 100%|██████████| 17/17 [00:00<00:00, 185.26it/s]"
     ]
    },
    {
     "name": "stdout",
     "output_type": "stream",
     "text": [
      "cost=2.397191, accuracy=0.553800\n"
     ]
    },
    {
     "name": "stderr",
     "output_type": "stream",
     "text": [
      "\n",
      "training,   e=43: 100%|██████████| 84/84 [00:00<00:00, 109.47it/s]\n",
      "validation, e=43: 100%|██████████| 17/17 [00:00<00:00, 185.62it/s]"
     ]
    },
    {
     "name": "stdout",
     "output_type": "stream",
     "text": [
      "cost=2.353979, accuracy=0.556800\n"
     ]
    },
    {
     "name": "stderr",
     "output_type": "stream",
     "text": [
      "\n",
      "training,   e=44: 100%|██████████| 84/84 [00:00<00:00, 97.42it/s] \n",
      "validation, e=44: 100%|██████████| 17/17 [00:00<00:00, 140.45it/s]"
     ]
    },
    {
     "name": "stdout",
     "output_type": "stream",
     "text": [
      "cost=2.332697, accuracy=0.558900\n"
     ]
    },
    {
     "name": "stderr",
     "output_type": "stream",
     "text": [
      "\n",
      "training,   e=45: 100%|██████████| 84/84 [00:00<00:00, 98.00it/s]\n",
      "validation, e=45: 100%|██████████| 17/17 [00:00<00:00, 185.64it/s]"
     ]
    },
    {
     "name": "stdout",
     "output_type": "stream",
     "text": [
      "cost=2.311087, accuracy=0.559800\n"
     ]
    },
    {
     "name": "stderr",
     "output_type": "stream",
     "text": [
      "\n",
      "training,   e=46: 100%|██████████| 84/84 [00:00<00:00, 110.28it/s]\n",
      "validation, e=46: 100%|██████████| 17/17 [00:00<00:00, 185.35it/s]"
     ]
    },
    {
     "name": "stdout",
     "output_type": "stream",
     "text": [
      "cost=2.300523, accuracy=0.559800\n"
     ]
    },
    {
     "name": "stderr",
     "output_type": "stream",
     "text": [
      "\n",
      "training,   e=47: 100%|██████████| 84/84 [00:00<00:00, 109.90it/s]\n",
      "validation, e=47: 100%|██████████| 17/17 [00:00<00:00, 185.31it/s]"
     ]
    },
    {
     "name": "stdout",
     "output_type": "stream",
     "text": [
      "cost=2.287708, accuracy=0.561300\n"
     ]
    },
    {
     "name": "stderr",
     "output_type": "stream",
     "text": [
      "\n",
      "training,   e=48: 100%|██████████| 84/84 [00:00<00:00, 103.65it/s]\n",
      "validation, e=48: 100%|██████████| 17/17 [00:00<00:00, 183.99it/s]"
     ]
    },
    {
     "name": "stdout",
     "output_type": "stream",
     "text": [
      "cost=2.282187, accuracy=0.559300\n"
     ]
    },
    {
     "name": "stderr",
     "output_type": "stream",
     "text": [
      "\n",
      "training,   e=49: 100%|██████████| 84/84 [00:00<00:00, 102.65it/s]\n",
      "validation, e=49: 100%|██████████| 17/17 [00:00<00:00, 140.79it/s]"
     ]
    },
    {
     "name": "stdout",
     "output_type": "stream",
     "text": [
      "cost=2.276578, accuracy=0.565600\n"
     ]
    },
    {
     "name": "stderr",
     "output_type": "stream",
     "text": [
      "\n",
      "training,   e=50: 100%|██████████| 84/84 [00:00<00:00, 88.83it/s] \n",
      "validation, e=50: 100%|██████████| 17/17 [00:00<00:00, 186.06it/s]"
     ]
    },
    {
     "name": "stdout",
     "output_type": "stream",
     "text": [
      "cost=2.284204, accuracy=0.563600\n"
     ]
    },
    {
     "name": "stderr",
     "output_type": "stream",
     "text": [
      "\n",
      "training,   e=51: 100%|██████████| 84/84 [00:00<00:00, 108.71it/s]\n",
      "validation, e=51: 100%|██████████| 17/17 [00:00<00:00, 185.19it/s]"
     ]
    },
    {
     "name": "stdout",
     "output_type": "stream",
     "text": [
      "cost=2.280297, accuracy=0.559800\n"
     ]
    },
    {
     "name": "stderr",
     "output_type": "stream",
     "text": [
      "\n",
      "training,   e=52: 100%|██████████| 84/84 [00:00<00:00, 109.63it/s]\n",
      "validation, e=52: 100%|██████████| 17/17 [00:00<00:00, 185.28it/s]"
     ]
    },
    {
     "name": "stdout",
     "output_type": "stream",
     "text": [
      "cost=2.264273, accuracy=0.560100\n"
     ]
    },
    {
     "name": "stderr",
     "output_type": "stream",
     "text": [
      "\n",
      "training,   e=53: 100%|██████████| 84/84 [00:00<00:00, 109.92it/s]\n",
      "validation, e=53: 100%|██████████| 17/17 [00:00<00:00, 185.38it/s]"
     ]
    },
    {
     "name": "stdout",
     "output_type": "stream",
     "text": [
      "cost=2.253747, accuracy=0.562300\n"
     ]
    },
    {
     "name": "stderr",
     "output_type": "stream",
     "text": [
      "\n",
      "training,   e=54: 100%|██████████| 84/84 [00:00<00:00, 96.16it/s] \n",
      "validation, e=54: 100%|██████████| 17/17 [00:00<00:00, 140.83it/s]"
     ]
    },
    {
     "name": "stdout",
     "output_type": "stream",
     "text": [
      "cost=2.235027, accuracy=0.565500\n"
     ]
    },
    {
     "name": "stderr",
     "output_type": "stream",
     "text": [
      "\n",
      "training,   e=55: 100%|██████████| 84/84 [00:00<00:00, 100.62it/s]\n",
      "validation, e=55: 100%|██████████| 17/17 [00:00<00:00, 185.84it/s]"
     ]
    },
    {
     "name": "stdout",
     "output_type": "stream",
     "text": [
      "cost=2.240275, accuracy=0.562500\n"
     ]
    },
    {
     "name": "stderr",
     "output_type": "stream",
     "text": [
      "\n",
      "training,   e=56: 100%|██████████| 84/84 [00:00<00:00, 109.86it/s]\n",
      "validation, e=56: 100%|██████████| 17/17 [00:00<00:00, 185.31it/s]"
     ]
    },
    {
     "name": "stdout",
     "output_type": "stream",
     "text": [
      "cost=2.242104, accuracy=0.563700\n"
     ]
    },
    {
     "name": "stderr",
     "output_type": "stream",
     "text": [
      "\n",
      "training,   e=57: 100%|██████████| 84/84 [00:00<00:00, 109.61it/s]\n",
      "validation, e=57: 100%|██████████| 17/17 [00:00<00:00, 185.91it/s]"
     ]
    },
    {
     "name": "stdout",
     "output_type": "stream",
     "text": [
      "cost=2.230347, accuracy=0.565200\n"
     ]
    },
    {
     "name": "stderr",
     "output_type": "stream",
     "text": [
      "\n",
      "training,   e=58: 100%|██████████| 84/84 [00:00<00:00, 109.60it/s]\n",
      "validation, e=58: 100%|██████████| 17/17 [00:00<00:00, 185.05it/s]"
     ]
    },
    {
     "name": "stdout",
     "output_type": "stream",
     "text": [
      "cost=2.238238, accuracy=0.564800\n"
     ]
    },
    {
     "name": "stderr",
     "output_type": "stream",
     "text": [
      "\n",
      "training,   e=59: 100%|██████████| 84/84 [00:00<00:00, 110.51it/s]\n",
      "validation, e=59: 100%|██████████| 17/17 [00:00<00:00, 185.30it/s]"
     ]
    },
    {
     "name": "stdout",
     "output_type": "stream",
     "text": [
      "cost=2.227793, accuracy=0.566000\n"
     ]
    },
    {
     "name": "stderr",
     "output_type": "stream",
     "text": [
      "\n",
      "training,   e=60: 100%|██████████| 84/84 [00:00<00:00, 110.40it/s]\n",
      "validation, e=60: 100%|██████████| 17/17 [00:00<00:00, 185.50it/s]"
     ]
    },
    {
     "name": "stdout",
     "output_type": "stream",
     "text": [
      "cost=2.220233, accuracy=0.567100\n"
     ]
    },
    {
     "name": "stderr",
     "output_type": "stream",
     "text": [
      "\n",
      "training,   e=61: 100%|██████████| 84/84 [00:01<00:00, 68.95it/s] \n",
      "validation, e=61: 100%|██████████| 17/17 [00:00<00:00, 132.96it/s]"
     ]
    },
    {
     "name": "stdout",
     "output_type": "stream",
     "text": [
      "cost=2.215265, accuracy=0.567500\n"
     ]
    },
    {
     "name": "stderr",
     "output_type": "stream",
     "text": [
      "\n",
      "training,   e=62: 100%|██████████| 84/84 [00:00<00:00, 96.49it/s] \n",
      "validation, e=62: 100%|██████████| 17/17 [00:00<00:00, 152.10it/s]"
     ]
    },
    {
     "name": "stdout",
     "output_type": "stream",
     "text": [
      "cost=2.218362, accuracy=0.567000\n"
     ]
    },
    {
     "name": "stderr",
     "output_type": "stream",
     "text": [
      "\n",
      "training,   e=63: 100%|██████████| 84/84 [00:00<00:00, 109.85it/s]\n",
      "validation, e=63: 100%|██████████| 17/17 [00:00<00:00, 185.02it/s]"
     ]
    },
    {
     "name": "stdout",
     "output_type": "stream",
     "text": [
      "cost=2.209902, accuracy=0.568500\n"
     ]
    },
    {
     "name": "stderr",
     "output_type": "stream",
     "text": [
      "\n",
      "training,   e=64: 100%|██████████| 84/84 [00:00<00:00, 109.06it/s]\n",
      "validation, e=64: 100%|██████████| 17/17 [00:00<00:00, 184.59it/s]"
     ]
    },
    {
     "name": "stdout",
     "output_type": "stream",
     "text": [
      "cost=2.204271, accuracy=0.565200\n"
     ]
    },
    {
     "name": "stderr",
     "output_type": "stream",
     "text": [
      "\n",
      "training,   e=65: 100%|██████████| 84/84 [00:00<00:00, 110.31it/s]\n",
      "validation, e=65: 100%|██████████| 17/17 [00:00<00:00, 184.42it/s]"
     ]
    },
    {
     "name": "stdout",
     "output_type": "stream",
     "text": [
      "cost=2.209475, accuracy=0.570000\n"
     ]
    },
    {
     "name": "stderr",
     "output_type": "stream",
     "text": [
      "\n",
      "training,   e=66: 100%|██████████| 84/84 [00:00<00:00, 109.82it/s]\n",
      "validation, e=66: 100%|██████████| 17/17 [00:00<00:00, 184.34it/s]"
     ]
    },
    {
     "name": "stdout",
     "output_type": "stream",
     "text": [
      "cost=2.203692, accuracy=0.569300\n"
     ]
    },
    {
     "name": "stderr",
     "output_type": "stream",
     "text": [
      "\n",
      "training,   e=67: 100%|██████████| 84/84 [00:00<00:00, 109.60it/s]\n",
      "validation, e=67: 100%|██████████| 17/17 [00:00<00:00, 184.10it/s]"
     ]
    },
    {
     "name": "stdout",
     "output_type": "stream",
     "text": [
      "cost=2.203329, accuracy=0.561700\n"
     ]
    },
    {
     "name": "stderr",
     "output_type": "stream",
     "text": [
      "\n",
      "training,   e=68: 100%|██████████| 84/84 [00:00<00:00, 109.12it/s]\n",
      "validation, e=68: 100%|██████████| 17/17 [00:00<00:00, 183.43it/s]"
     ]
    },
    {
     "name": "stdout",
     "output_type": "stream",
     "text": [
      "cost=2.199000, accuracy=0.572300\n"
     ]
    },
    {
     "name": "stderr",
     "output_type": "stream",
     "text": [
      "\n",
      "training,   e=69: 100%|██████████| 84/84 [00:00<00:00, 110.46it/s]\n",
      "validation, e=69: 100%|██████████| 17/17 [00:00<00:00, 184.49it/s]"
     ]
    },
    {
     "name": "stdout",
     "output_type": "stream",
     "text": [
      "cost=2.188360, accuracy=0.573500\n"
     ]
    },
    {
     "name": "stderr",
     "output_type": "stream",
     "text": [
      "\n",
      "training,   e=70: 100%|██████████| 84/84 [00:00<00:00, 110.33it/s]\n",
      "validation, e=70: 100%|██████████| 17/17 [00:00<00:00, 184.57it/s]"
     ]
    },
    {
     "name": "stdout",
     "output_type": "stream",
     "text": [
      "cost=2.185778, accuracy=0.574800\n"
     ]
    },
    {
     "name": "stderr",
     "output_type": "stream",
     "text": [
      "\n",
      "training,   e=71: 100%|██████████| 84/84 [00:00<00:00, 103.58it/s]\n",
      "validation, e=71: 100%|██████████| 17/17 [00:00<00:00, 183.74it/s]"
     ]
    },
    {
     "name": "stdout",
     "output_type": "stream",
     "text": [
      "cost=2.187600, accuracy=0.567200\n"
     ]
    },
    {
     "name": "stderr",
     "output_type": "stream",
     "text": [
      "\n",
      "training,   e=72: 100%|██████████| 84/84 [00:00<00:00, 92.39it/s]\n",
      "validation, e=72: 100%|██████████| 17/17 [00:00<00:00, 141.34it/s]"
     ]
    },
    {
     "name": "stdout",
     "output_type": "stream",
     "text": [
      "cost=2.195178, accuracy=0.568600\n"
     ]
    },
    {
     "name": "stderr",
     "output_type": "stream",
     "text": [
      "\n",
      "training,   e=73: 100%|██████████| 84/84 [00:00<00:00, 110.59it/s]\n",
      "validation, e=73: 100%|██████████| 17/17 [00:00<00:00, 184.50it/s]"
     ]
    },
    {
     "name": "stdout",
     "output_type": "stream",
     "text": [
      "cost=2.176681, accuracy=0.570600\n"
     ]
    },
    {
     "name": "stderr",
     "output_type": "stream",
     "text": [
      "\n",
      "training,   e=74: 100%|██████████| 84/84 [00:00<00:00, 110.14it/s]\n",
      "validation, e=74: 100%|██████████| 17/17 [00:00<00:00, 184.73it/s]"
     ]
    },
    {
     "name": "stdout",
     "output_type": "stream",
     "text": [
      "cost=2.174270, accuracy=0.571300\n"
     ]
    },
    {
     "name": "stderr",
     "output_type": "stream",
     "text": [
      "\n",
      "training,   e=75: 100%|██████████| 84/84 [00:00<00:00, 105.69it/s]\n",
      "validation, e=75: 100%|██████████| 17/17 [00:00<00:00, 183.77it/s]"
     ]
    },
    {
     "name": "stdout",
     "output_type": "stream",
     "text": [
      "cost=2.175344, accuracy=0.571000\n"
     ]
    },
    {
     "name": "stderr",
     "output_type": "stream",
     "text": [
      "\n",
      "training,   e=76: 100%|██████████| 84/84 [00:00<00:00, 106.54it/s]\n",
      "validation, e=76: 100%|██████████| 17/17 [00:00<00:00, 184.54it/s]"
     ]
    },
    {
     "name": "stdout",
     "output_type": "stream",
     "text": [
      "cost=2.177708, accuracy=0.567100\n"
     ]
    },
    {
     "name": "stderr",
     "output_type": "stream",
     "text": [
      "\n",
      "training,   e=77: 100%|██████████| 84/84 [00:00<00:00, 110.35it/s]\n",
      "validation, e=77: 100%|██████████| 17/17 [00:00<00:00, 184.66it/s]"
     ]
    },
    {
     "name": "stdout",
     "output_type": "stream",
     "text": [
      "cost=2.171814, accuracy=0.573500\n"
     ]
    },
    {
     "name": "stderr",
     "output_type": "stream",
     "text": [
      "\n",
      "training,   e=78: 100%|██████████| 84/84 [00:00<00:00, 102.89it/s]\n",
      "validation, e=78: 100%|██████████| 17/17 [00:00<00:00, 183.57it/s]"
     ]
    },
    {
     "name": "stdout",
     "output_type": "stream",
     "text": [
      "cost=2.172597, accuracy=0.573700\n"
     ]
    },
    {
     "name": "stderr",
     "output_type": "stream",
     "text": [
      "\n",
      "training,   e=79: 100%|██████████| 84/84 [00:00<00:00, 104.52it/s]\n",
      "validation, e=79: 100%|██████████| 17/17 [00:00<00:00, 184.40it/s]"
     ]
    },
    {
     "name": "stdout",
     "output_type": "stream",
     "text": [
      "cost=2.162491, accuracy=0.573200\n"
     ]
    },
    {
     "name": "stderr",
     "output_type": "stream",
     "text": [
      "\n",
      "training,   e=80: 100%|██████████| 84/84 [00:00<00:00, 110.31it/s]\n",
      "validation, e=80: 100%|██████████| 17/17 [00:00<00:00, 184.57it/s]"
     ]
    },
    {
     "name": "stdout",
     "output_type": "stream",
     "text": [
      "cost=2.164888, accuracy=0.572300\n"
     ]
    },
    {
     "name": "stderr",
     "output_type": "stream",
     "text": [
      "\n",
      "training,   e=81: 100%|██████████| 84/84 [00:00<00:00, 110.80it/s]\n",
      "validation, e=81: 100%|██████████| 17/17 [00:00<00:00, 184.71it/s]"
     ]
    },
    {
     "name": "stdout",
     "output_type": "stream",
     "text": [
      "cost=2.167944, accuracy=0.569700\n"
     ]
    },
    {
     "name": "stderr",
     "output_type": "stream",
     "text": [
      "\n",
      "training,   e=82: 100%|██████████| 84/84 [00:00<00:00, 110.42it/s]\n",
      "validation, e=82: 100%|██████████| 17/17 [00:00<00:00, 184.88it/s]"
     ]
    },
    {
     "name": "stdout",
     "output_type": "stream",
     "text": [
      "cost=2.168157, accuracy=0.576600\n"
     ]
    },
    {
     "name": "stderr",
     "output_type": "stream",
     "text": [
      "\n",
      "training,   e=83: 100%|██████████| 84/84 [00:00<00:00, 110.62it/s]\n",
      "validation, e=83: 100%|██████████| 17/17 [00:00<00:00, 184.48it/s]"
     ]
    },
    {
     "name": "stdout",
     "output_type": "stream",
     "text": [
      "cost=2.161013, accuracy=0.573400\n"
     ]
    },
    {
     "name": "stderr",
     "output_type": "stream",
     "text": [
      "\n",
      "training,   e=84: 100%|██████████| 84/84 [00:00<00:00, 110.86it/s]\n",
      "validation, e=84: 100%|██████████| 17/17 [00:00<00:00, 184.94it/s]"
     ]
    },
    {
     "name": "stdout",
     "output_type": "stream",
     "text": [
      "cost=2.155828, accuracy=0.574200\n"
     ]
    },
    {
     "name": "stderr",
     "output_type": "stream",
     "text": [
      "\n",
      "training,   e=85: 100%|██████████| 84/84 [00:00<00:00, 111.65it/s]\n",
      "validation, e=85: 100%|██████████| 17/17 [00:00<00:00, 184.75it/s]"
     ]
    },
    {
     "name": "stdout",
     "output_type": "stream",
     "text": [
      "cost=2.159542, accuracy=0.574700\n"
     ]
    },
    {
     "name": "stderr",
     "output_type": "stream",
     "text": [
      "\n",
      "training,   e=86: 100%|██████████| 84/84 [00:00<00:00, 111.03it/s]\n",
      "validation, e=86: 100%|██████████| 17/17 [00:00<00:00, 185.27it/s]"
     ]
    },
    {
     "name": "stdout",
     "output_type": "stream",
     "text": [
      "cost=2.160014, accuracy=0.572000\n"
     ]
    },
    {
     "name": "stderr",
     "output_type": "stream",
     "text": [
      "\n",
      "training,   e=87: 100%|██████████| 84/84 [00:00<00:00, 110.15it/s]\n",
      "validation, e=87: 100%|██████████| 17/17 [00:00<00:00, 184.36it/s]"
     ]
    },
    {
     "name": "stdout",
     "output_type": "stream",
     "text": [
      "cost=2.157137, accuracy=0.574100\n"
     ]
    },
    {
     "name": "stderr",
     "output_type": "stream",
     "text": [
      "\n",
      "training,   e=88: 100%|██████████| 84/84 [00:00<00:00, 109.97it/s]\n",
      "validation, e=88: 100%|██████████| 17/17 [00:00<00:00, 184.61it/s]"
     ]
    },
    {
     "name": "stdout",
     "output_type": "stream",
     "text": [
      "cost=2.159303, accuracy=0.576700\n"
     ]
    },
    {
     "name": "stderr",
     "output_type": "stream",
     "text": [
      "\n",
      "training,   e=89: 100%|██████████| 84/84 [00:00<00:00, 110.28it/s]\n",
      "validation, e=89: 100%|██████████| 17/17 [00:00<00:00, 184.68it/s]"
     ]
    },
    {
     "name": "stdout",
     "output_type": "stream",
     "text": [
      "cost=2.151820, accuracy=0.573100\n"
     ]
    },
    {
     "name": "stderr",
     "output_type": "stream",
     "text": [
      "\n",
      "training,   e=90: 100%|██████████| 84/84 [00:00<00:00, 110.99it/s]\n",
      "validation, e=90: 100%|██████████| 17/17 [00:00<00:00, 183.54it/s]"
     ]
    },
    {
     "name": "stdout",
     "output_type": "stream",
     "text": [
      "cost=2.152159, accuracy=0.572700\n"
     ]
    },
    {
     "name": "stderr",
     "output_type": "stream",
     "text": [
      "\n",
      "training,   e=91: 100%|██████████| 84/84 [00:00<00:00, 110.73it/s]\n",
      "validation, e=91: 100%|██████████| 17/17 [00:00<00:00, 184.42it/s]"
     ]
    },
    {
     "name": "stdout",
     "output_type": "stream",
     "text": [
      "cost=2.153817, accuracy=0.573500\n"
     ]
    },
    {
     "name": "stderr",
     "output_type": "stream",
     "text": [
      "\n",
      "training,   e=92: 100%|██████████| 84/84 [00:00<00:00, 110.49it/s]\n",
      "validation, e=92: 100%|██████████| 17/17 [00:00<00:00, 184.44it/s]"
     ]
    },
    {
     "name": "stdout",
     "output_type": "stream",
     "text": [
      "cost=2.152125, accuracy=0.573900\n"
     ]
    },
    {
     "name": "stderr",
     "output_type": "stream",
     "text": [
      "\n",
      "training,   e=93: 100%|██████████| 84/84 [00:00<00:00, 110.21it/s]\n",
      "validation, e=93: 100%|██████████| 17/17 [00:00<00:00, 184.56it/s]"
     ]
    },
    {
     "name": "stdout",
     "output_type": "stream",
     "text": [
      "cost=2.152750, accuracy=0.573000\n"
     ]
    },
    {
     "name": "stderr",
     "output_type": "stream",
     "text": [
      "\n",
      "training,   e=94: 100%|██████████| 84/84 [00:00<00:00, 110.07it/s]\n",
      "validation, e=94: 100%|██████████| 17/17 [00:00<00:00, 184.83it/s]"
     ]
    },
    {
     "name": "stdout",
     "output_type": "stream",
     "text": [
      "cost=2.150829, accuracy=0.573100\n"
     ]
    },
    {
     "name": "stderr",
     "output_type": "stream",
     "text": [
      "\n",
      "training,   e=95: 100%|██████████| 84/84 [00:00<00:00, 110.35it/s]\n",
      "validation, e=95: 100%|██████████| 17/17 [00:00<00:00, 184.69it/s]"
     ]
    },
    {
     "name": "stdout",
     "output_type": "stream",
     "text": [
      "cost=2.148718, accuracy=0.575400\n"
     ]
    },
    {
     "name": "stderr",
     "output_type": "stream",
     "text": [
      "\n",
      "training,   e=96: 100%|██████████| 84/84 [00:00<00:00, 108.63it/s]\n",
      "validation, e=96: 100%|██████████| 17/17 [00:00<00:00, 180.89it/s]"
     ]
    },
    {
     "name": "stdout",
     "output_type": "stream",
     "text": [
      "cost=2.143742, accuracy=0.574200\n"
     ]
    },
    {
     "name": "stderr",
     "output_type": "stream",
     "text": [
      "\n",
      "training,   e=97: 100%|██████████| 84/84 [00:00<00:00, 108.98it/s]\n",
      "validation, e=97: 100%|██████████| 17/17 [00:00<00:00, 180.97it/s]"
     ]
    },
    {
     "name": "stdout",
     "output_type": "stream",
     "text": [
      "cost=2.142858, accuracy=0.572100\n"
     ]
    },
    {
     "name": "stderr",
     "output_type": "stream",
     "text": [
      "\n",
      "training,   e=98: 100%|██████████| 84/84 [00:00<00:00, 108.55it/s]\n",
      "validation, e=98: 100%|██████████| 17/17 [00:00<00:00, 184.65it/s]"
     ]
    },
    {
     "name": "stdout",
     "output_type": "stream",
     "text": [
      "cost=2.138705, accuracy=0.571700\n"
     ]
    },
    {
     "name": "stderr",
     "output_type": "stream",
     "text": [
      "\n",
      "training,   e=99: 100%|██████████| 84/84 [00:00<00:00, 110.00it/s]\n",
      "validation, e=99: 100%|██████████| 17/17 [00:00<00:00, 184.65it/s]"
     ]
    },
    {
     "name": "stdout",
     "output_type": "stream",
     "text": [
      "cost=2.145199, accuracy=0.574300\n"
     ]
    },
    {
     "name": "stderr",
     "output_type": "stream",
     "text": [
      "\n"
     ]
    }
   ],
   "source": [
    "# define hyperparameters\n",
    "input_size = 28**2\n",
    "label_size = 10\n",
    "batch_size = 600\n",
    "learning_rate = 0.0001\n",
    "number_epochs = 100\n",
    "\n",
    "random_input = np.random.rand(batch_size, input_size)\n",
    "random_label = np.random.rand(batch_size, label_size)\n",
    "\n",
    "linear_layer = Linear(input_size, label_size)\n",
    "sigmoid_layer = Sigmoid()\n",
    "cost_function = MeanSquareError()\n",
    "\n",
    "# ----- add code for task 2f between comments -----\n",
    "act=linear_layer.forward(random_input)\n",
    "pred=sigmoid_layer.forward(act)\n",
    "\n",
    "cost=cost_function.estimate(random_label,pred)\n",
    "grad=cost_function.gradient(cost)\n",
    "\n",
    "d=sigmoid_layer.backward(grad)\n",
    "d_in=linear_layer.backward(d)\n",
    "\n",
    "linear_layer.update_parameters(learning_rate)\n",
    "\n",
    "# -------------------------------------------------\n",
    "\n",
    "# ----- add code for task 3b between comments -----\n",
    "\n",
    "linear_layer_1 = Linear(input_size, label_size)\n",
    "sigmoid_layer = Sigmoid()\n",
    "net = Network([linear_layer_1,sigmoid_layer])\n",
    "train(net, cost_function, number_epochs, batch_size, learning_rate)\n",
    "\n",
    "\n",
    "\n",
    "\n",
    "# -------------------------------------------------\n",
    "\n",
    "# ----- add code for task 4 between comments ------\n",
    "\n",
    "\n",
    "# -------------------------------------------------\n",
    "\n",
    "# ----- add code for task 5 between comments ------\n",
    "\n",
    "\n",
    "# -------------------------------------------------"
   ]
  },
  {
   "cell_type": "markdown",
   "metadata": {},
   "source": [
    "### Feedback\n",
    "\n",
    "Aaaaaand we're done 👏🏼🍻\n",
    "\n",
    "If you have any suggestions on how we could improve this session, please let us know in the following cell. What did you particularly like or dislike? Did you miss any contents?"
   ]
  },
  {
   "cell_type": "markdown",
   "metadata": {},
   "source": []
  },
  {
   "cell_type": "markdown",
   "metadata": {},
   "source": [
    "### Additional Tasks\n",
    "\n",
    "**Task 6a:** Implement the `forward` function for the `SoftMax` layer.\n",
    "\n",
    "**Task 6b:** Implement the `estimate` function for the `CrossEntropy` cost.\n",
    "\n",
    "**Task 6c:** Implement the `gradient` function for the `CrossEntropy` cost.\n",
    "\n",
    "**Task 6d:** Implement the `backward` function for the `SoftMax` layer.\n",
    "\n",
    "**Task 6e:** Test your implementation by setting up a network using the soft max layer and cross entropy cost in combination."
   ]
  },
  {
   "cell_type": "code",
   "execution_count": 7,
   "metadata": {},
   "outputs": [],
   "source": [
    "class SoftMax(Layer):\n",
    "    def __init__(self):\n",
    "        self.x_out = None\n",
    "\n",
    "    def forward(self, x_in):\n",
    "        # ----- add code for task 6a between comments -----\n",
    "        # -------------------------------------------------\n",
    "        return self.x_out\n",
    "\n",
    "    def backward(self, d_out):\n",
    "        # ----- add code for task 6d between comments -----\n",
    "        # -------------------------------------------------\n",
    "        return d_in\n",
    "\n",
    "\n",
    "class CrossEntropy(Cost):\n",
    "    def __init__(self):\n",
    "        self.x_in = None\n",
    "        self.target = None\n",
    "        self.eps = 1e-12\n",
    "\n",
    "    def estimate(self, target, x_in):\n",
    "        # ----- add code for task 6b between comments -----\n",
    "        # -------------------------------------------------\n",
    "        return cost\n",
    "\n",
    "    def gradient(self, d_out):\n",
    "        # ----- add code for task 6c between comments -----\n",
    "        # -------------------------------------------------\n",
    "        return gradient\n"
   ]
  },
  {
   "cell_type": "code",
   "execution_count": 8,
   "metadata": {},
   "outputs": [],
   "source": [
    "# define hyperparameters\n",
    "input_size = 28**2\n",
    "label_size = 10\n",
    "batch_size = 600\n",
    "learning_rate = 0.00001\n",
    "number_epochs = 100\n",
    "\n",
    "# ----- add code for task 6e between comments -----\n",
    "# -------------------------------------------------"
   ]
  },
  {
   "cell_type": "markdown",
   "metadata": {},
   "source": []
  },
  {
   "cell_type": "code",
   "execution_count": null,
   "metadata": {},
   "outputs": [],
   "source": []
  }
 ],
 "metadata": {
  "kernelspec": {
   "display_name": "Python 3",
   "language": "python",
   "name": "python3"
  },
  "language_info": {
   "codemirror_mode": {
    "name": "ipython",
    "version": 3
   },
   "file_extension": ".py",
   "mimetype": "text/x-python",
   "name": "python",
   "nbconvert_exporter": "python",
   "pygments_lexer": "ipython3",
   "version": "3.6.6"
  }
 },
 "nbformat": 4,
 "nbformat_minor": 2
}
