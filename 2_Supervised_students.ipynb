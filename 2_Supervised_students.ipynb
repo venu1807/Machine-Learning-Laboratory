{
 "cells": [
  {
   "cell_type": "markdown",
   "metadata": {},
   "source": [
    "# HaMLeT"
   ]
  },
  {
   "cell_type": "markdown",
   "metadata": {},
   "source": [
    "# Session 2: Supervised Learning"
   ]
  },
  {
   "cell_type": "markdown",
   "metadata": {},
   "source": [
    "## Goals of this session\n",
    "\n",
    "At the end of this session, you will have an understanding of the following:\n",
    "- Difference between supervised and unsupervised learning\n",
    "- What is meant by Classification in ML\n",
    "- Supervised Learning:\n",
    "    - Support Vector Machine (SVM)\n",
    "    - k-nearest neighbour\n",
    "    - Linear regression\n",
    "- Unsupervised Learning:\n",
    "    - k-means clustering\n",
    "    - GMM"
   ]
  },
  {
   "cell_type": "markdown",
   "metadata": {},
   "source": [
    "For most of the tasks in this notebook, we are going to use our knowledge about PCA from last session. So, instead of using the features of the Iris dataset directly, we are going to use the PCA features we calculated last time. It is advisable that you check the difference in results you obtain with the features directly versus with PCA for the tasks below. "
   ]
  },
  {
   "cell_type": "markdown",
   "metadata": {},
   "source": [
    "Let's first import some of the useful packages and the Iris dataset using `scikit`. We also perform PCA just as we did last time!"
   ]
  },
  {
   "cell_type": "code",
   "execution_count": 23,
   "metadata": {},
   "outputs": [],
   "source": [
    "import numpy as np\n",
    "import matplotlib.pyplot as plt\n",
    "from sklearn import datasets\n",
    "\n",
    "np.random.seed(seed=10) # to ensure reproducible reuslts\n",
    "\n",
    "iris = datasets.load_iris()\n",
    "features = iris.data[:,[0,1,2,3]]\n",
    "targets = iris.target "
   ]
  },
  {
   "cell_type": "markdown",
   "metadata": {},
   "source": [
    "## Recap: PCA"
   ]
  },
  {
   "cell_type": "code",
   "execution_count": 24,
   "metadata": {},
   "outputs": [
    {
     "name": "stdout",
     "output_type": "stream",
     "text": [
      "Data= [[array([-2.26454173, -2.0864255 , -2.36795045, -2.30419716, -2.38877749,\n",
      "       -2.07053681, -2.44571134, -2.23384186, -2.34195768, -2.18867576,\n",
      "       -2.16348656, -2.32737775, -2.22408272, -2.63971626, -2.19229151,\n",
      "       -2.25146521, -2.20275048, -2.19017916, -1.89407429, -2.33994907,\n",
      "       -1.91455639, -2.2046454 , -2.77416979, -1.82041156, -2.2282175 ,\n",
      "       -1.95702401, -2.05206331, -2.16819365, -2.14030596, -2.26879019,\n",
      "       -2.14455443, -1.8319381 , -2.60820287, -2.43795086, -2.18867576,\n",
      "       -2.2111199 , -2.04441652, -2.18867576, -2.4359522 , -2.1705472 ,\n",
      "       -2.28652724, -1.87170722, -2.55783442, -1.96427929, -2.13337283,\n",
      "       -2.07535759, -2.38125822, -2.39819169, -2.22678121, -2.20595417]), array([ 0.5057039 , -0.65540473, -0.31847731, -0.57536771,  0.6747674 ,\n",
      "        1.51854856,  0.07456268,  0.24761393, -1.09514636, -0.44862905,\n",
      "        1.07059558,  0.15858745, -0.70911816, -0.93828198,  1.88997851,\n",
      "        2.72237108,  1.51375028,  0.51430431,  1.43111071,  1.15803343,\n",
      "        0.43046516,  0.95245732,  0.48951703,  0.10675079,  0.16218616,\n",
      "       -0.60789257,  0.26601431,  0.5520165 ,  0.33664041, -0.3148786 ,\n",
      "       -0.4839421 ,  0.44526684,  1.82847519,  2.18539162, -0.44862905,\n",
      "       -0.18433781,  0.68495643, -0.44862905, -0.88216941,  0.29272695,\n",
      "        0.46799172, -2.32769161, -0.45381638,  0.49739164,  1.17143211,\n",
      "       -0.69191735,  1.15063259, -0.36239076,  1.02548255,  0.03223785])], [array([ 1.10399365,  0.73248144,  1.24210951,  0.39730728,  1.07259395,\n",
      "        0.38445815,  0.74871508, -0.49786339,  0.92622237,  0.00496803,\n",
      "       -0.12469746,  0.43873012,  0.55163398,  0.71716507, -0.03725838,\n",
      "        0.87589054,  0.3480064 ,  0.15339254,  1.21530321,  0.15694118,\n",
      "        0.7382561 ,  0.47236968,  1.22798821,  0.62938105,  0.7004728 ,\n",
      "        0.87353699,  1.25422219,  1.35823985,  0.66212614, -0.04728151,\n",
      "        0.12153421,  0.01411823,  0.23601084,  1.05669143,  0.22141709,\n",
      "        0.43178316,  1.04941336,  1.03587821,  0.0670676 ,  0.27542507,\n",
      "        0.27233507,  0.62317054,  0.33000536, -0.37362762,  0.28294434,\n",
      "        0.08905311,  0.22435678,  0.57388349, -0.45701287,  0.25224447]), array([ 0.86311245,  0.59863557,  0.61482245, -1.75816895, -0.2117579 ,\n",
      "       -0.59106247,  0.77869861, -1.84886877,  0.03033083, -1.02940111,\n",
      "       -2.65806268, -0.05888129, -1.77258156, -0.18543431, -0.4327951 ,\n",
      "        0.50999815, -0.19062165, -0.79072546, -1.63335564, -1.30310327,\n",
      "        0.40247038, -0.41660822, -0.94091479, -0.41681164, -0.06349393,\n",
      "        0.25070861, -0.0826201 ,  0.32882027, -0.22434607, -1.05721241,\n",
      "       -1.56359238, -1.57339235, -0.77592378, -0.63690128, -0.28084769,\n",
      "        0.85513692,  0.52219726, -1.39246648, -0.21262073, -1.32981591,\n",
      "       -1.11944152,  0.02754263, -0.98890073, -2.01793227, -0.85395072,\n",
      "       -0.17490855, -0.38048466, -0.15371997, -1.53946451, -0.59586075])], [array([ 1.84767259,  1.15318981,  2.2063495 ,  1.4386854 ,  1.8678907 ,\n",
      "        2.75419671,  0.35837447,  2.3030059 ,  2.0017353 ,  2.2675546 ,\n",
      "        1.36590943,  1.59906459,  1.88425185,  1.25308651,  1.46406152,\n",
      "        1.5918093 ,  1.47128019,  2.43737848,  3.30914118,  1.25398099,\n",
      "        2.04049626,  0.97391511,  2.89806444,  1.32919369,  1.70424071,\n",
      "        1.95772766,  1.17190451,  1.01978105,  1.78600886,  1.86477791,\n",
      "        2.43549739,  2.31608241,  1.86037143,  1.11127173,  1.19746916,\n",
      "        2.8009494 ,  1.58015525,  1.34704442,  0.92343298,  1.85355198,\n",
      "        2.0161572 ,  1.90311686,  1.15318981,  2.04330844,  2.00169097,\n",
      "        1.87052207,  1.55849189,  1.52084506,  1.37639119,  0.95929858]), array([  8.71696662e-01,  -7.01326114e-01,   5.54470105e-01,\n",
      "        -5.00105223e-02,   2.91192802e-01,   7.88432206e-01,\n",
      "        -1.56009458e+00,   4.09516695e-01,  -7.23865359e-01,\n",
      "         1.92144299e+00,   6.93948040e-01,  -4.28248836e-01,\n",
      "         4.14332758e-01,  -1.16739134e+00,  -4.44147569e-01,\n",
      "         6.77035372e-01,   2.53192472e-01,   2.55675734e+00,\n",
      "        -2.36132010e-03,  -1.71758384e+00,   9.07398765e-01,\n",
      "        -5.71174376e-01,   3.97791359e-01,  -4.86760542e-01,\n",
      "         1.01414842e+00,   1.00333452e+00,  -3.18896617e-01,\n",
      "         6.55429631e-02,  -1.93272800e-01,   5.55381532e-01,\n",
      "         2.46654468e-01,   2.62618387e+00,  -1.84672394e-01,\n",
      "        -2.95986102e-01,  -8.17167742e-01,   8.44748194e-01,\n",
      "         1.07247450e+00,   4.22255966e-01,   1.92303705e-02,\n",
      "         6.72422729e-01,   6.10397038e-01,   6.86024832e-01,\n",
      "        -7.01326114e-01,   8.64684880e-01,   1.04855005e+00,\n",
      "         3.82821838e-01,  -9.05313601e-01,   2.66794575e-01,\n",
      "         1.01636193e+00,  -2.22839447e-02])]]\n"
     ]
    },
    {
     "data": {
      "image/png": "[encoded data removed]",
      "text/plain": [
       "<Figure size 432x288 with 1 Axes>"
      ]
     },
     "metadata": {},
     "output_type": "display_data"
    }
   ],
   "source": [
    "# Data standarization\n",
    "from sklearn.preprocessing import StandardScaler\n",
    "features = StandardScaler().fit_transform(features)\n",
    "# PCA\n",
    "from sklearn.decomposition import PCA as sklearnPCA\n",
    "sklearn_pca = sklearnPCA(n_components=2)\n",
    "features_PCA = sklearn_pca.fit_transform(features)\n",
    "\n",
    "species = ('Iris-setosa', 'Iris-versicolor', 'Iris-virginica')\n",
    "colors = ('blue','green','red')\n",
    "\n",
    "# Plotting the relationship between PCA1 and PCA2\n",
    "feature1 = features_PCA[:, 0] \n",
    "feature2 = features_PCA[:, 1] \n",
    "    \n",
    "species = ('Iris-setosa', 'Iris-versicolor', 'Iris-virginica')\n",
    "colors = ('blue','green','red')\n",
    "data = [[features_PCA[np.where(targets == target)][:, feature] for feature in [0, 1]] for target in range(3)]\n",
    "print(\"Data=\",data)\n",
    "for item, color, group in zip(data, colors, species):\n",
    "    plt.scatter(item[0], item[1], color=color)\n",
    "    plt.title('Projection matrix')\n",
    "plt.xlabel('PCA1')\n",
    "plt.ylabel('PCA2')\n",
    "plt.legend(species)\n",
    "plt.show()"
   ]
  },
  {
   "cell_type": "markdown",
   "metadata": {},
   "source": [
    "## 1. Supervised Learning (Classification of the Iris dataset)\n",
    "\n",
    "Classification tasks aim at predicting the class of a given data sample. For the Iris dataset, we want to predict which one of the three species a given sample belongs to. In supervised learning, we do so by 'learning' a model based on some training samples. We then use this trained model to make predictions on 'unseen' or test-dataset.\n",
    "\n",
    "Before we dive into any of the algorithms, we need to get introduced to the idea of splitting the datset into train and test sets. \n",
    "\n",
    "We know that the Iris dataset consists of 150 samples. Now, we will take 80% of the samples as our training set and the remaining as test set. We calculate the accuracy of our model on the test set. The common ML terminology is as follows: X_train, X_test are, respectively, the feature vectors for training and testing; and y_train and y_test are the corresponding labels for X_train and X_test. The predictions will be stored in y_pred."
   ]
  },
  {
   "cell_type": "markdown",
   "metadata": {},
   "source": [
    "**Task:** Using the `train_test_split` function of `sklearn`, split the PCA features obtained above in accordance with the standard ML naming convention (as explained above). \n",
    "\n",
    "Tip: Please use the default parameters for the split. You will learn this topic more in details in the next session ;)"
   ]
  },
  {
   "cell_type": "code",
   "execution_count": 25,
   "metadata": {},
   "outputs": [
    {
     "name": "stdout",
     "output_type": "stream",
     "text": [
      "X train , Size= (120, 2)\n",
      "X test , Size= (30, 2)\n",
      "Y train , Size= 120\n",
      "Y test , Size= 30\n",
      "\n",
      "\n"
     ]
    }
   ],
   "source": [
    "# Your code here:\n",
    "from sklearn.model_selection import train_test_split\n",
    "\n",
    "X_train, X_test, y_train, y_test = train_test_split(features_PCA, targets, test_size=0.20)\n",
    "\n",
    "print(\"X train , Size=\",X_train.shape)\n",
    "print(\"X test , Size=\",X_test.shape)\n",
    "print(\"Y train , Size=\",len(y_train))\n",
    "print(\"Y test , Size=\",len(y_test))\n",
    "\n",
    "print(\"\\n\")\n",
    "#print(\"X train \",X_train)\n",
    "#print(\"X Test \",X_test)\n",
    "#print(\"Y train \",y_train)\n",
    "#print(\"Y Test \",y_test)\n"
   ]
  },
  {
   "cell_type": "markdown",
   "metadata": {},
   "source": [
    "### 1.1 My very own classifier"
   ]
  },
  {
   "cell_type": "markdown",
   "metadata": {},
   "source": [
    "**Task:** Refer to the PCA plot above and design your own classifier (by completing the assisting code!). For this, you may define simple linear or non-linear conditions to classify the sample points into one of the three classes. \n",
    "\n",
    "Example condition: if PCA1 for given sample < -2, sample is Iris-Setosa"
   ]
  },
  {
   "cell_type": "code",
   "execution_count": 26,
   "metadata": {},
   "outputs": [],
   "source": [
    "# Complete the following lines of code: \n",
    "\n",
    "class StudentsClassifier:\n",
    "    def predict(self, X):\n",
    "        return np.array([self.predict_single(x) for x in X])\n",
    "    \n",
    "    def predict_single(self, X):\n",
    "        feature1 = X[0]\n",
    "\n",
    "        feature2 = X[1]\n",
    "        \n",
    "        # write a function that returns the index of the class\n",
    "        # e.g. if Iris-Setosa, return 0 \n",
    "        \n",
    "        # Your code here:\n",
    "        if feature1 < -2:\n",
    "            return 0\n",
    "        elif -2 < feature1 < 1:\n",
    "            return 1\n",
    "        elif feature1 > 1:\n",
    "            return 2\n",
    "        \n",
    "            \n",
    "        \n",
    "        \n",
    "\n"
   ]
  },
  {
   "cell_type": "markdown",
   "metadata": {},
   "source": [
    "### 1.2. Qualitative evaluation\n",
    "\n",
    "Below is a ready-to-use function to visualize classification boundaries. You are not required to understand it in detail but try to understand what inputs/outputs the functions require/produce. You will need to use these later in the notebook. "
   ]
  },
  {
   "cell_type": "code",
   "execution_count": 27,
   "metadata": {},
   "outputs": [],
   "source": [
    "def make_meshgrid(x, y, h=.02):\n",
    "    \"\"\"Create a mesh of points to plot in\n",
    "\n",
    "    Parameters\n",
    "    ----------\n",
    "    x: data to base x-axis meshgrid on\n",
    "    y: data to base y-axis meshgrid on\n",
    "    h: stepsize for meshgrid, optional\n",
    "\n",
    "    Returns\n",
    "    -------\n",
    "    xx, yy : ndarray\n",
    "    \"\"\"\n",
    "    x_min, x_max = x.min() - 1, x.max() + 1\n",
    "    y_min, y_max = y.min() - 1, y.max() + 1\n",
    "    xx, yy = np.meshgrid(np.arange(x_min, x_max, h),\n",
    "                         np.arange(y_min, y_max, h))\n",
    "    return xx, yy\n",
    "\n",
    "\n",
    "def plot_contours(clf, X, y, **params):\n",
    "    \"\"\"Plot the decision boundaries for a classifier.\n",
    "\n",
    "    Parameters\n",
    "    ----------\n",
    "    ax: matplotlib axes object\n",
    "    clf: a classifier\n",
    "    xx: meshgrid ndarray\n",
    "    yy: meshgrid ndarray\n",
    "    params: dictionary of params to pass to contourf, optional\n",
    "    \"\"\"\n",
    "    fig, ax = plt.subplots(constrained_layout=True)\n",
    "    \n",
    "    X0, X1 = X[:, 0], X[:, 1]\n",
    "    xx, yy = make_meshgrid(X0, X1)\n",
    "    \n",
    "    Z = clf.predict(np.c_[xx.ravel(), yy.ravel()])\n",
    "    Z = Z.reshape(xx.shape)\n",
    "    out = ax.contourf(xx, yy, Z, cmap=plt.cm.coolwarm, alpha=0.7)\n",
    "    \n",
    "    ax.scatter(X0, X1, c=y, cmap=plt.cm.coolwarm, s=30, edgecolors='k')\n",
    "    ax.set_xlim(xx.min(), xx.max())\n",
    "    ax.set_ylim(yy.min(), yy.max())\n",
    "    ax.set_xticks(())\n",
    "    ax.set_yticks(())\n",
    "    plt.show()\n",
    "\n"
   ]
  },
  {
   "cell_type": "markdown",
   "metadata": {},
   "source": [
    "**Task:** Using the function $plot\\_contours$, visualize the training boundaries obtained by your classifier by providing the correct arguments to it. "
   ]
  },
  {
   "cell_type": "code",
   "execution_count": 28,
   "metadata": {},
   "outputs": [
    {
     "data": {
      "image/png": "[encoded data removed]",
      "text/plain": [
       "<Figure size 432x288 with 1 Axes>"
      ]
     },
     "metadata": {},
     "output_type": "display_data"
    }
   ],
   "source": [
    "# Calling your classifier\n",
    "my_clf = StudentsClassifier()\n",
    "# Visualizing class boundaries for my_clf\n",
    "# Your code here:\n",
    "plot_contours(my_clf,X_train,y_train)\n"
   ]
  },
  {
   "cell_type": "markdown",
   "metadata": {},
   "source": [
    "### 1.3. Quantitative evaluation\n",
    "\n",
    "**Task:** First 'predict' the classes for X_test using the classifier you just defined above. And then calculate the accuracy on this test dataset. Use `scikit`'s `accuracy_score`.\n",
    "\n",
    "Hint: First import the necessary module."
   ]
  },
  {
   "cell_type": "code",
   "execution_count": 29,
   "metadata": {},
   "outputs": [
    {
     "name": "stdout",
     "output_type": "stream",
     "text": [
      "0.9\n"
     ]
    }
   ],
   "source": [
    "# Your code here:\n",
    "from sklearn.metrics import accuracy_score\n",
    "\n",
    "my_clf = StudentsClassifier()\n",
    "y_predicted = my_clf.predict(X_test)\n",
    "# y_pred = ? # Complete the code!\n",
    "\n",
    "print(accuracy_score(y_test,y_predicted))\n",
    "\n",
    "\n"
   ]
  },
  {
   "cell_type": "markdown",
   "metadata": {},
   "source": [
    "### 1.4. Support Vector Machine\n",
    "\n",
    "SVMs are a powerful and flexible class of supervised algorithms for both classification and regression. They are memory efficient in that they use only a subset of the training points in the decision function (called support vectors). The simplest SVM uses a linear kernel to separate classes. "
   ]
  },
  {
   "cell_type": "markdown",
   "metadata": {},
   "source": [
    "**Task:** Using `sklearn`'s `svm`, implement a SVM with a linear kernel. Also perform a qualitative and a quantitative evaluation just as you did previously. "
   ]
  },
  {
   "cell_type": "code",
   "execution_count": 34,
   "metadata": {
    "scrolled": true
   },
   "outputs": [
    {
     "data": {
      "image/png": "[encoded data removed]",
      "text/plain": [
       "<Figure size 432x288 with 1 Axes>"
      ]
     },
     "metadata": {},
     "output_type": "display_data"
    },
    {
     "data": {
      "text/plain": [
       "0.90833333333333333"
      ]
     },
     "execution_count": 34,
     "metadata": {},
     "output_type": "execute_result"
    }
   ],
   "source": [
    "from sklearn import svm\n",
    "\n",
    "# Example code: LinearSVC\n",
    "clf0 = svm.LinearSVC() # SVC = Support Vector Classifier\n",
    "# train clf0 on X_train and y_train\n",
    "clf0.fit(X_train, y_train)\n",
    "# visualize \n",
    "#accuracy_score(y_train, y_pred_clf0)\n",
    "\n",
    "plot_contours(clf0, X_train, y_train)\n",
    "\n",
    "# Your code here:\n",
    "# train clf0 on X_train and y_train\n",
    "\n",
    "# visualize \n",
    "#plot_contours(clf0, X_test, y_test)\n",
    "y_pred_clf0 = clf0.predict(X_train)\n",
    "\n",
    "accuracy_score(y_train, y_pred_clf0)"
   ]
  },
  {
   "cell_type": "markdown",
   "metadata": {},
   "source": [
    "**Question:** How is it in comparison to the your classifier? (Compare the accuracies).\n",
    "\n",
    "Answer: \n",
    "\n",
    "1. My classifier is overfitting\n",
    "2. In SVM misclassification is less\n",
    "\n"
   ]
  },
  {
   "cell_type": "markdown",
   "metadata": {},
   "source": [
    "### 1.4. More on accuracy metrics\n",
    "\n",
    "The Confusion Matrix provides a better summary of the classification performance than just the accuracy score. The latter is often not the best measure for classification tasks involving more than two classes. Calculating a confusion matrix can give you a better idea of what your classification model is getting right and what types of errors it is making."
   ]
  },
  {
   "cell_type": "markdown",
   "metadata": {},
   "source": [
    "**Task:** Read up on Confusion Matrix if you are not familiar with the term. Then using `sklearn`'s `confusion_matrix` draw it and try to understand the perfomance of your classifier. \n",
    "\n",
    "Tip: You may also want to look into `sklearn`'s `classification_report` function. "
   ]
  },
  {
   "cell_type": "code",
   "execution_count": 36,
   "metadata": {},
   "outputs": [
    {
     "name": "stdout",
     "output_type": "stream",
     "text": [
      "[[10  0  0]\n",
      " [ 0 10  3]\n",
      " [ 0  0  7]]\n",
      "\n",
      "\n",
      "[[33  7  0]\n",
      " [ 0 30  7]\n",
      " [ 0  4 39]]\n",
      "[[10  0  0]\n",
      " [ 0 10  3]\n",
      " [ 0  0  7]]\n",
      "             precision    recall  f1-score   support\n",
      "\n",
      "          0       1.00      1.00      1.00        10\n",
      "          1       1.00      0.77      0.87        13\n",
      "          2       0.70      1.00      0.82         7\n",
      "\n",
      "avg / total       0.93      0.90      0.90        30\n",
      "\n"
     ]
    }
   ],
   "source": [
    "# Your code here:\n",
    "from sklearn.metrics import confusion_matrix\n",
    "print(confusion_matrix(y_test,y_predicted))\n",
    "\n",
    "print(\"\\n\")\n",
    "y_train_predicted = my_clf.predict(X_train)\n",
    "print(confusion_matrix(y_train,y_train_predicted))\n",
    "\n",
    "import sklearn.metrics as met\n",
    "print(met.confusion_matrix(y_test, y_predicted, labels=None, sample_weight=None))\n",
    "print(met.classification_report(y_test,y_predicted\n",
    "                               ))"
   ]
  },
  {
   "cell_type": "markdown",
   "metadata": {},
   "source": [
    "### 1.5. Tuning the Hyperparameters\n",
    "\n",
    "There are several parameters that can help achieve better results (introduced in the Preparatory Material). \n",
    "\n",
    "- Kernel: Depending on the (expected) distribution of our classes, we can choose different types of functions, eg. linear, polynomial, and radial basis function (RBF). As might be obvious, the latter two are useful for non-linear hyperplane.\n",
    "\n",
    "- Regularization: `C` in scikit-learn is a penalty parameter that controls the flexibility allowed to the hyperplane. A smaller value of C creates a small-margin hyperplane and a larger value creates a larger-margin hyperplane. \n",
    "\n",
    "- Gamma: This defines how far the influence of a single training example reaches, with low values meaning ‘far’ and high values meaning ‘close’. A small gamma value define a Gaussian function with a large variance. In this case, two points can be considered similar even if are far from each other. In the other hand, a large gamma value means define a Gaussian function with a small variance and in this case, two points are considered similar just if they are close to each other."
   ]
  },
  {
   "cell_type": "markdown",
   "metadata": {},
   "source": [
    "**Task:** With a simple trial and error approach try to visualize and understand the effect of the hyperparameters and find an optimum classifier for the given dataset. You may use the metrices you learnt about to evaluate the performance of the different classifiers."
   ]
  },
  {
   "cell_type": "code",
   "execution_count": 37,
   "metadata": {},
   "outputs": [
    {
     "data": {
      "image/png": "[encoded data removed]",
      "text/plain": [
       "<Figure size 432x288 with 1 Axes>"
      ]
     },
     "metadata": {},
     "output_type": "display_data"
    },
    {
     "data": {
      "text/plain": [
       "0.90000000000000002"
      ]
     },
     "execution_count": 37,
     "metadata": {},
     "output_type": "execute_result"
    }
   ],
   "source": [
    "# Your code here:\n",
    "\n",
    "clf0 = svm.SVC(kernel = 'poly',C = 1,gamma = 'auto') # SVC = Support Vector Classifier\n",
    "# train clf0 on X_train and y_train\n",
    "clf0.fit(X_train, y_train)\n",
    "# visualize\n",
    "plot_contours(clf0, X_train, y_train)\n",
    "y_pred_clf0 = clf0.predict(X_test)\n",
    "accuracy_score(y_test, y_pred_clf0)"
   ]
  },
  {
   "cell_type": "markdown",
   "metadata": {},
   "source": [
    "### 1.6. k-nearest neighbour (knn)"
   ]
  },
  {
   "cell_type": "markdown",
   "metadata": {},
   "source": [
    "### knn Algorithm\n",
    "\n",
    "- Define a distance metric (Euclidean distance)\n",
    "- Choose a value for k (= the number of nearest neighbours) \n",
    "- Take k-nearest neighbors of the new data point, according to your distance metric\n",
    "- Assign the new data point the same category as its nearest neighbors"
   ]
  },
  {
   "cell_type": "markdown",
   "metadata": {},
   "source": [
    "### 1.7. My very own knn classifier\n",
    "\n",
    "We define our own knn classifier according to the above algorithm. "
   ]
  },
  {
   "cell_type": "markdown",
   "metadata": {},
   "source": [
    "**Task (Step 1):** Define a function that calculates the euclidean distance between two points. "
   ]
  },
  {
   "cell_type": "code",
   "execution_count": 40,
   "metadata": {},
   "outputs": [
    {
     "data": {
      "text/plain": [
       "6.324555320336759"
      ]
     },
     "execution_count": 40,
     "metadata": {},
     "output_type": "execute_result"
    }
   ],
   "source": [
    "from numpy import linalg as la\n",
    "def my_ecd(v1, v2):\n",
    "    # Your code here:\n",
    "    return la.norm(v1-v2)\n",
    "\n",
    "l1 = np.array([2,3])\n",
    "l2 = np.array([8,5])\n",
    "my_ecd(l1,l2) \n",
    "\n"
   ]
  },
  {
   "cell_type": "markdown",
   "metadata": {},
   "source": [
    "**Task (Step 2):** Define a function that uses my_ecd to calculate the distance between one single test data point with *all* the training data points. Save the distances *along with their respective indices* in a list. Return the *sorted* list as the output of the function. \n",
    "\n",
    "Hint: 1. To get indices, you may want to use `enumerate`.        2. You may use the function `sort` or `sorted`."
   ]
  },
  {
   "cell_type": "code",
   "execution_count": 41,
   "metadata": {},
   "outputs": [
    {
     "name": "stdout",
     "output_type": "stream",
     "text": [
      "[42, 21, 19, 99, 118, 6, 92, 7, 106, 41, 98, 9, 52, 36, 44, 108, 34, 68, 2, 16, 14, 103, 113, 90, 29, 64, 24, 85, 97, 102, 69, 58, 43, 17, 60, 78, 59, 0, 94, 70, 51, 8, 72, 105, 45, 27, 1, 3, 23, 114, 111, 18, 48, 57, 66, 104, 39, 65, 53, 71, 4, 116, 49, 38, 80, 75, 115, 117, 91, 55, 25, 107, 12, 100, 56, 47, 84, 82, 87, 26, 96, 28, 11, 20, 15, 62, 88, 76, 81, 32, 63, 10, 73, 67, 110, 54, 109, 22, 101, 61, 33, 74, 46, 93, 77, 30, 89, 35, 50, 119, 83, 37, 5, 79, 31, 86, 40, 112, 95, 13]\n"
     ]
    }
   ],
   "source": [
    "def my_distance_metric(X_train, single_test):\n",
    "    \"\"\"Calculates the distance between one test sample X_test and every sample in X_train.\n",
    "\n",
    "    Parameters:\n",
    "    X_train = all available training samples\n",
    "    single_test = one particular test sample\n",
    "    k = number of nearest neighbours\n",
    "    -----------\n",
    "    Returns: sorted distance list  \n",
    "    \"\"\"\n",
    "    dist_list = []\n",
    "    \n",
    "    # Your code here:\n",
    "    # Define a for-loop to compute distance\n",
    "    ind =np.arange(X_train.shape[0])\n",
    "    for i in ind:\n",
    "        item = X_train[i,:]\n",
    "        dist = my_ecd(item,single_test)\n",
    "        dist_list.append(dist)\n",
    "        \n",
    "    dist_list =[i[0] for i in sorted(enumerate(dist_list), key=lambda x:x[1])]\n",
    "    return dist_list\n",
    "\n",
    "l1 = np.array([2,3])\n",
    "dist_list = my_distance_metric(X_train,l1)\n",
    "print(dist_list)\n",
    "\n",
    "#print((list(enumerate(list(dist_list)))))"
   ]
  },
  {
   "cell_type": "markdown",
   "metadata": {},
   "source": [
    "**Taks (Step 3):** Define a function to save the first k target values corresponding to dist_list obtained above. "
   ]
  },
  {
   "cell_type": "code",
   "execution_count": 42,
   "metadata": {},
   "outputs": [
    {
     "name": "stdout",
     "output_type": "stream",
     "text": [
      "[2, 2, 2, 2, 2, 2, 2, 2, 2, 2, 2, 2, 1, 2, 2, 2, 2, 2, 2, 1]\n"
     ]
    }
   ],
   "source": [
    "def my_target_list(dist_list, y_train, k): \n",
    "    # Your code here:\n",
    "    # make a list of the k neighbors' targets\n",
    "    target_ind = dist_list[0:k]\n",
    "    target_list = []\n",
    "    for i in target_ind:\n",
    "        target_list.append(y_train[i])\n",
    "\n",
    "    return target_list\n",
    "tarList = my_target_list(dist_list,y_train,20)\n",
    "print(tarList)"
   ]
  },
  {
   "cell_type": "markdown",
   "metadata": {},
   "source": [
    "**Task (Step 4):** Define a function that assigns predictions to the test data points. \n",
    "\n",
    "Hint: Use `most_common`method from the `Counter` object to get the target that occurs maximum number of times."
   ]
  },
  {
   "cell_type": "code",
   "execution_count": 43,
   "metadata": {},
   "outputs": [],
   "source": [
    "from collections import Counter\n",
    "\n",
    "def my_predict(target_list):\n",
    "    cnt = Counter()\n",
    "   # num = target_list[0] \n",
    "    for tar in target_list:\n",
    "        cnt[tar] += 1\n",
    "      \n",
    "#    for i in target_list: \n",
    "#        curr_frequency = target_list.count(i) \n",
    "##        if(curr_frequency> counter): \n",
    "#            counter = curr_frequency \n",
    "#            num = i \n",
    "    cnt=list(dict(cnt.most_common(2)).keys())[0]\n",
    "    return cnt\n",
    "\n",
    "#cnntt=(my_predict(tarList))\n",
    "#print(type(cnntt))\n",
    "#print(dict(cnntt.most_common(2)))\n",
    "#dd=dict(cnntt.most_common(2))\n",
    "#dd1=dd.keys()\n",
    "#print(list(dd1)[0])\n",
    "\n"
   ]
  },
  {
   "cell_type": "markdown",
   "metadata": {},
   "source": [
    "**Task (Step 5):** Finally define a function that loops through all data points predicting each one by one."
   ]
  },
  {
   "cell_type": "code",
   "execution_count": 44,
   "metadata": {},
   "outputs": [],
   "source": [
    "def my_knn(X_test, X_train, y_train, k):    \n",
    "    all_predictions = []\n",
    "    # Your code here:\n",
    "    # define a for-loop to loop through all the test data points \n",
    "    # to get the predictions for each one of them individually \n",
    "    for item in X_test:\n",
    "        dist_metric = my_distance_metric(X_train, item)\n",
    "        target_list = my_target_list(dist_metric, y_train, k)\n",
    "        all_predictions.append(my_predict(target_list))\n",
    "        \n",
    "    return all_predictions\n",
    "\n",
    "\n"
   ]
  },
  {
   "cell_type": "markdown",
   "metadata": {},
   "source": [
    "**Task:** Use the knn-function\n",
    "to predict X_test and calculate the accuracy. "
   ]
  },
  {
   "cell_type": "code",
   "execution_count": 45,
   "metadata": {},
   "outputs": [
    {
     "name": "stdout",
     "output_type": "stream",
     "text": [
      "30\n",
      "[1 2 0 1 0 1 1 1 0 1 1 2 1 0 0 2 1 0 0 0 2 2 2 0 1 0 1 1 1 2]\n",
      "30\n",
      "[2, 2, 0, 1, 0, 1, 2, 1, 0, 1, 1, 2, 1, 0, 0, 2, 1, 0, 0, 0, 2, 2, 2, 0, 1, 0, 1, 1, 2, 2]\n",
      "The accuracy score of the KNN:\n",
      " 0.9\n"
     ]
    }
   ],
   "source": [
    "# Your code here:\n",
    "from sklearn.metrics import accuracy_score\n",
    "print(len(y_test))\n",
    "print(y_test)\n",
    "y_predict = my_knn(X_test, X_train, y_train, 3)\n",
    "print(len(y_predict))\n",
    "print(y_predict)\n",
    "\n",
    "print(\"The accuracy score of the KNN:\\n\",accuracy_score(y_test, y_predict))\n",
    "\n"
   ]
  },
  {
   "cell_type": "markdown",
   "metadata": {},
   "source": [
    "**Task:** Use the built-in knn classifier from `scikit-learn`"
   ]
  },
  {
   "cell_type": "code",
   "execution_count": 46,
   "metadata": {},
   "outputs": [
    {
     "name": "stdout",
     "output_type": "stream",
     "text": [
      "[1 2 0 1 0 1 1 1 0 1 1 2 1 0 0 2 1 0 0 0 2 2 2 0 1 0 1 1 1 2]\n",
      "[2 2 0 1 0 1 2 1 0 1 1 2 1 0 0 2 1 0 0 0 2 2 2 0 1 0 1 1 2 2]\n",
      "The accuracy score of the KNN 0.9\n"
     ]
    }
   ],
   "source": [
    "# Your code here:\n",
    "#from sklearn.neighbors import NearestNeighbors\n",
    "from sklearn.neighbors import KNeighborsClassifier\n",
    "from sklearn.metrics import accuracy_score\n",
    "neigh = KNeighborsClassifier(n_neighbors=3)\n",
    "neigh.fit(X_train, y_train) \n",
    "y_predict=neigh.predict(X_test)\n",
    "print(y_test)\n",
    "print(neigh.predict(X_test))\n",
    "print(\"The accuracy score of the KNN\",accuracy_score(y_test, y_predict))"
   ]
  },
  {
   "cell_type": "markdown",
   "metadata": {},
   "source": [
    "**Question:** How does your knn classifier perform in in comparison to the built-in function? \n",
    "\n",
    "Answer:\n",
    "\n"
   ]
  },
  {
   "cell_type": "markdown",
   "metadata": {},
   "source": [
    "## 2. Unsupervised Learning "
   ]
  },
  {
   "cell_type": "markdown",
   "metadata": {},
   "source": [
    "Until now we always worked with features and targets (labels) of the given dataset. In unsupervised learning, we do not have any labels for the data. For classification task, here, we will rely on some clustering algorithms. \n",
    "\n",
    "In this section, we will see the K-means and Gausssian Mixture Model (GMM) clustering methods. These agorithms require us to 'guess' how many clusters (classes) we have. "
   ]
  },
  {
   "cell_type": "markdown",
   "metadata": {},
   "source": [
    "### 2.1. K-means \n",
    "\n",
    "This is the simplest clustering algorithm. We initialize the algorithm with 'k' clusters according to which we get 'k' centroids. The algorithm then iteratively assigns every datapoint to its nearest cluster. The 'means' in its name refers to averaging of the data, i.e., finding the centroid."
   ]
  },
  {
   "cell_type": "markdown",
   "metadata": {},
   "source": [
    "**Task:** Perform unsupervised classification using `sklearn's` `KMeans`. To check your results, print out the output lables and compare with the target values. \n",
    "\n",
    "Note: For this task we ignore the several optional parameters. Providing only the `n_clusters` argument will suffice for this task. "
   ]
  },
  {
   "cell_type": "markdown",
   "metadata": {},
   "source": [
    "**Question:** Before you begin the task, think about which dataset should you work with here? \n",
    "\n",
    "Hint: Unsupervised learning = NO labels available\n",
    "\n",
    "Answer: X_Train of iris dataset"
   ]
  },
  {
   "cell_type": "code",
   "execution_count": 47,
   "metadata": {},
   "outputs": [
    {
     "name": "stdout",
     "output_type": "stream",
     "text": [
      "[2 2 0 2 2 1 0 0 0 0 1 1 2 1 0 1 0 0 2 0 2 0 2 2 0 1 1 2 1 0 1 1 2 2 0 1 0\n",
      " 1 2 2 1 0 0 0 0 2 1 2 0 2 1 0 0 2 1 1 1 2 0 0 0 1 1 1 0 2 2 2 0 0 2 2 2 1\n",
      " 1 2 1 1 0 2 1 1 1 2 1 0 1 2 2 1 0 2 0 1 2 1 2 0 0 0 1 2 0 0 2 2 0 1 0 1 1\n",
      " 2 1 0 2 2 2 1 0 1]\n"
     ]
    }
   ],
   "source": [
    "# Your code here:\n",
    "\n",
    "from sklearn.cluster import KMeans\n",
    "kmeans = KMeans(n_clusters=3) # You want cluster the passenger records into 2: Survived or Not survived\n",
    "kmeans.fit(X_train)\n",
    "y_kmeans = kmeans.predict(X_train)\n",
    "print(y_kmeans)\n",
    "\n",
    "#print(\"Is 2 sets equal =\",np.argwhere(y_kmeans == y_test))\n",
    "\n"
   ]
  },
  {
   "cell_type": "markdown",
   "metadata": {},
   "source": [
    "**Question:** Is it informative to compare the labels and the targets? Explain.\n",
    "\n",
    "Answer: Yes, K means is not accurate\n",
    "\n"
   ]
  },
  {
   "cell_type": "markdown",
   "metadata": {},
   "source": [
    "### 2.2 Visualization of labels\n",
    "\n",
    "I hope by now it is clear to you why calculating accuracy as done previously does not make sense in this case. Hence, we perform a simple visualization to assess the performance. "
   ]
  },
  {
   "cell_type": "markdown",
   "metadata": {},
   "source": [
    "**Task:** Plot the results of the kmeans function as a scatter plot (similar to PCA). "
   ]
  },
  {
   "cell_type": "code",
   "execution_count": 48,
   "metadata": {},
   "outputs": [
    {
     "data": {
      "image/png": "[encoded data removed]",
      "text/plain": [
       "<Figure size 432x288 with 1 Axes>"
      ]
     },
     "metadata": {},
     "output_type": "display_data"
    }
   ],
   "source": [
    "# Your code here:\n",
    "\n",
    "# Optional: Plotting the centroids of the clusters\n",
    "# plt.scatter(kmeans.cluster_centers_[:, 0], kmeans.cluster_centers_[:,1], s = 70, c = 'black')\n",
    "plt.scatter(X_train[:, 0], X_train[:, 1], c=y_kmeans, s=50, cmap='viridis')\n",
    "\n",
    "centers = kmeans.cluster_centers_\n",
    "\n",
    "plt.scatter(centers[:, 0], centers[:, 1], c='black', s=200, alpha=0.5);\n",
    "\n",
    "#plt.scatter(X_train[:,0], X_train[:,1], s = 70, cmap='viridis')\n",
    "plt.show()"
   ]
  },
  {
   "cell_type": "markdown",
   "metadata": {},
   "source": [
    "### 2.3 The Elbow Method\n",
    "\n",
    "In a truly unsupervised learning scenario, how could we make the initial guess for the number of custers? One option is The Elbow Method.\n",
    "\n",
    "The basic idea behind cluster partitioning methods, such as k-means clustering, is to define clusters such that the total intra-cluster variation, or total within-cluster sum of square (wcss), is minimized. In the Elbow Method, we plot the WCSS against a set of values for 'k' and the location of a bend (elbow) in the plot is generally considered as an indicator of the appropriate number of clusters."
   ]
  },
  {
   "cell_type": "code",
   "execution_count": 20,
   "metadata": {},
   "outputs": [
    {
     "data": {
      "image/png": "[encoded data removed]",
      "text/plain": [
       "<Figure size 432x288 with 1 Axes>"
      ]
     },
     "metadata": {},
     "output_type": "display_data"
    }
   ],
   "source": [
    "#Finding the optimum number of clusters for k-means classification\n",
    "wcss = [] #within cluster sum of squares\n",
    "\n",
    "for i in range(1, 11):\n",
    "    kmeans = KMeans(n_clusters=i, init='k-means++', max_iter=300, n_init=10, random_state=0)\n",
    "    kmeans.fit(features_PCA)\n",
    "    wcss.append(kmeans.inertia_)\n",
    "    \n",
    "#Plotting the results onto a line graph, allowing us to observe 'The elbow'\n",
    "plt.plot(range(1, 11), wcss)\n",
    "plt.title('The elbow method')\n",
    "plt.xlabel('Number of clusters')\n",
    "plt.ylabel('WCSS') \n",
    "plt.show()"
   ]
  },
  {
   "cell_type": "markdown",
   "metadata": {},
   "source": [
    "**Question:** What is the optimum number of clusters according to the Elbow Method? \n",
    "\n",
    "Answer: 5"
   ]
  },
  {
   "cell_type": "markdown",
   "metadata": {},
   "source": [
    "### 2.4 GMM\n",
    "\n",
    "As we saw, Kmeans might not always provide the most optimum output because it deos not have any intrinsic measure of probability or uncertainty of cluster assignments. A major limitation of k-means is that the cluster models must be circular: k-means has no built-in way of accounting for oblong or elliptical clusters.\n",
    "\n",
    "Gaussian mixture models (GMMs) offer an extension to the idea of kmeans and provide a better estimation. They attempt to find a mixture of multi-dimensional Gaussian probability distributions that best model any input dataset. While Kmeans is a method that performs hard labeling, i.e., it simply choses the maximum probability, GMM provide soft labeling by looking at all the probabilities instead of only maximum. "
   ]
  },
  {
   "cell_type": "markdown",
   "metadata": {},
   "source": [
    "**Task:** Try out GMM using `sklearn`'s `GaussianMixture`. Display the probabilities that are assigned to every sample to understand the concept of soft-labeling as explained above. You may also plot the clusters for visualization. \n",
    "\n",
    "Tip: Round the probabilities up to two decimal places before displaying."
   ]
  },
  {
   "cell_type": "code",
   "execution_count": 49,
   "metadata": {},
   "outputs": [
    {
     "data": {
      "image/png": "[encoded data removed]",
      "text/plain": [
       "<Figure size 432x288 with 1 Axes>"
      ]
     },
     "metadata": {},
     "output_type": "display_data"
    }
   ],
   "source": [
    "# Your code here:\n",
    "import numpy as np\n",
    "import matplotlib.pyplot as plt\n",
    "from sklearn.mixture import GaussianMixture\n",
    "\n",
    "gmm = GaussianMixture(n_components=3)\n",
    "gmm.fit(X_train)\n",
    "labels = gmm.predict(X_train)\n",
    "\n",
    "\n",
    "\n",
    "#plt.scatter(X_train[:,0], X_train[:, 1], s=40, cmap='viridis');\n",
    "\n",
    "#probs = gmm.predict_proba(X_train)\n",
    "#print(probs)\n",
    "\n",
    "plt.scatter(X_train[:, 0], X_train[:, 1], c=labels, s=50, cmap='viridis')\n",
    "\n",
    "centers = kmeans.cluster_centers_\n",
    "\n",
    "plt.scatter(centers[:, 0], centers[:, 1], c='black', s=200, alpha=0.5);\n",
    "\n",
    "#plt.scatter(X_train[:,0], X_train[:,1], s = 70, cmap='viridis')\n",
    "plt.show()\n"
   ]
  },
  {
   "cell_type": "markdown",
   "metadata": {},
   "source": [
    "## 3. Bonus task \n",
    "\n",
    "**Task1:** For the above methods, it is highly interesting to work with the features directly without performing PCA. Compare performances of the methods with the results you obtained above with features_PCA.\n",
    "\n",
    "**Task2:** Perform a simple linear regression using `sklearn`'s built-in function on some randomly generated data. "
   ]
  },
  {
   "cell_type": "code",
   "execution_count": 22,
   "metadata": {},
   "outputs": [],
   "source": [
    "# Your code here:\n",
    "\n",
    "\n"
   ]
  },
  {
   "cell_type": "markdown",
   "metadata": {},
   "source": [
    "## 4. Feedback Cell\n",
    "\n",
    "Hopefully you enjoyed this tutorial and learned some important classification methods used commonly in ML. Please leave your comments about what you liked/disliked in the session. Any suggestions are welcome!\n",
    "\n",
    "Your feedback:\n",
    "\n"
   ]
  }
 ],
 "metadata": {
  "kernelspec": {
   "display_name": "Python 3",
   "language": "python",
   "name": "python3"
  },
  "language_info": {
   "codemirror_mode": {
    "name": "ipython",
    "version": 3
   },
   "file_extension": ".py",
   "mimetype": "text/x-python",
   "name": "python",
   "nbconvert_exporter": "python",
   "pygments_lexer": "ipython3",
   "version": "3.6.6"
  }
 },
 "nbformat": 4,
 "nbformat_minor": 2
}
